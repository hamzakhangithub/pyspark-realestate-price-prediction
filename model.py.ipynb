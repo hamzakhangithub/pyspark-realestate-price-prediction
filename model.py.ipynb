{
 "cells": [
  {
   "cell_type": "code",
   "execution_count": 2,
   "id": "de9fb862",
   "metadata": {},
   "outputs": [
    {
     "name": "stdout",
     "output_type": "stream",
     "text": [
      "Collecting pysparkNote: you may need to restart the kernel to use updated packages.\n",
      "  Downloading pyspark-3.5.0.tar.gz (316.9 MB)\n",
      "\n",
      "Collecting py4j==0.10.9.7\n",
      "  Downloading py4j-0.10.9.7-py2.py3-none-any.whl (200 kB)\n",
      "Building wheels for collected packages: pyspark\n",
      "  Building wheel for pyspark (setup.py): started\n",
      "  Building wheel for pyspark (setup.py): finished with status 'done'\n",
      "  Created wheel for pyspark: filename=pyspark-3.5.0-py2.py3-none-any.whl size=317425383 sha256=eedade531891f1489719d680d53dc74635cd965fa59ad914aef75fc33d106e4e\n",
      "  Stored in directory: c:\\users\\ihamz\\appdata\\local\\pip\\cache\\wheels\\57\\bd\\14\\ce9e21f2649298678d011fb8f71ed38ee70b42b94fef0be142\n",
      "Successfully built pyspark\n",
      "Installing collected packages: py4j, pyspark\n",
      "Successfully installed py4j-0.10.9.7 pyspark-3.5.0\n"
     ]
    }
   ],
   "source": [
    "pip install pyspark"
   ]
  },
  {
   "cell_type": "code",
   "execution_count": 3,
   "id": "f2014331",
   "metadata": {},
   "outputs": [
    {
     "name": "stderr",
     "output_type": "stream",
     "text": [
      "C:\\MingW2\\pyth\\lib\\site-packages\\pyspark\\pandas\\__init__.py:50: UserWarning: 'PYARROW_IGNORE_TIMEZONE' environment variable was not set. It is required to set this environment variable to '1' in both driver and executor sides if you use pyarrow>=2.0.0. pandas-on-Spark will set it for you but it does not work if there is a Spark context already launched.\n",
      "  warnings.warn(\n"
     ]
    }
   ],
   "source": [
    "import pandas as pd\n",
    "import numpy as np\n",
    "import matplotlib.pyplot as plt\n",
    "import seaborn as sns\n",
    "import pyspark\n",
    "import pyspark.pandas as ps"
   ]
  },
  {
   "cell_type": "code",
   "execution_count": 4,
   "id": "9d33f312",
   "metadata": {},
   "outputs": [
    {
     "data": {
      "text/html": [
       "\n",
       "            <div>\n",
       "                <p><b>SparkSession - in-memory</b></p>\n",
       "                \n",
       "        <div>\n",
       "            <p><b>SparkContext</b></p>\n",
       "\n",
       "            <p><a href=\"http://DESKTOP-SN7F4LA:4040\">Spark UI</a></p>\n",
       "\n",
       "            <dl>\n",
       "              <dt>Version</dt>\n",
       "                <dd><code>v3.5.0</code></dd>\n",
       "              <dt>Master</dt>\n",
       "                <dd><code>local[*]</code></dd>\n",
       "              <dt>AppName</dt>\n",
       "                <dd><code>ML Pyspark</code></dd>\n",
       "            </dl>\n",
       "        </div>\n",
       "        \n",
       "            </div>\n",
       "        "
      ],
      "text/plain": [
       "<pyspark.sql.session.SparkSession at 0x17b8258a190>"
      ]
     },
     "execution_count": 4,
     "metadata": {},
     "output_type": "execute_result"
    }
   ],
   "source": [
    "from pyspark.sql import SparkSession\n",
    "spark = SparkSession.builder.appName('ML Pyspark').getOrCreate()\n",
    "spark"
   ]
  },
  {
   "cell_type": "code",
   "execution_count": 5,
   "id": "bc69efc5",
   "metadata": {},
   "outputs": [],
   "source": [
    "df = spark.read.csv('real_estate_data.csv',header=True,inferSchema=True)"
   ]
  },
  {
   "cell_type": "code",
   "execution_count": 6,
   "id": "29a76f83",
   "metadata": {},
   "outputs": [
    {
     "name": "stdout",
     "output_type": "stream",
     "text": [
      "root\n",
      " |-- zipcode: integer (nullable = true)\n",
      " |-- city: string (nullable = true)\n",
      " |-- state: string (nullable = true)\n",
      " |-- latitude: double (nullable = true)\n",
      " |-- longitude: double (nullable = true)\n",
      " |-- price: double (nullable = true)\n",
      " |-- bathrooms: integer (nullable = true)\n",
      " |-- bedrooms: integer (nullable = true)\n",
      " |-- livingArea: double (nullable = true)\n",
      " |-- homeType: string (nullable = true)\n",
      " |-- homeStatus: string (nullable = true)\n",
      " |-- is_bankOwned: boolean (nullable = true)\n",
      " |-- isUnmappable: boolean (nullable = true)\n",
      " |-- isPreforeclosureAuction: boolean (nullable = true)\n",
      " |-- isNonOwnerOccupied: boolean (nullable = true)\n",
      " |-- isPremierBuilder: boolean (nullable = true)\n",
      " |-- isZillowOwned: boolean (nullable = true)\n",
      " |-- currency: string (nullable = true)\n",
      " |-- country: string (nullable = true)\n",
      " |-- taxAssessedvalue: double (nullable = true)\n",
      " |-- lotAreaValue: double (nullable = true)\n",
      " |-- lotAreaUnit: string (nullable = true)\n",
      "\n"
     ]
    }
   ],
   "source": [
    "df.printSchema()"
   ]
  },
  {
   "cell_type": "code",
   "execution_count": 7,
   "id": "d99cc447",
   "metadata": {},
   "outputs": [
    {
     "name": "stdout",
     "output_type": "stream",
     "text": [
      "+-------+----------------+-----+---------+---------+--------+---------+--------+----------+-------------+----------+------------+------------+-----------------------+------------------+----------------+-------------+--------+-------+----------------+-------------------+-----------+\n",
      "|zipcode|            city|state| latitude|longitude|   price|bathrooms|bedrooms|livingArea|     homeType|homeStatus|is_bankOwned|isUnmappable|isPreforeclosureAuction|isNonOwnerOccupied|isPremierBuilder|isZillowOwned|currency|country|taxAssessedvalue|       lotAreaValue|lotAreaUnit|\n",
      "+-------+----------------+-----+---------+---------+--------+---------+--------+----------+-------------+----------+------------+------------+-----------------------+------------------+----------------+-------------+--------+-------+----------------+-------------------+-----------+\n",
      "|  20743| Capitol Heights|   MD| 38.86519|-76.92221|268850.0|        3|       4|    2352.0|SINGLE_FAMILY|  FOR_SALE|        true|       false|                  false|              true|           false|        false|     USD|    USA|        320900.0|             6098.4|       sqft|\n",
      "|  20735|         Clinton|   MD| 38.78017| -76.9087|250000.0|        2|       3|    1188.0|SINGLE_FAMILY|  FOR_SALE|        NULL|       false|                  false|              true|           false|        false|     USD|    USA|        335900.0|            10019.0|       sqft|\n",
      "|  20746|        Suitland|   MD| 38.85437|-76.92173|423000.0|        3|       6|    2752.0|SINGLE_FAMILY|  FOR_SALE|        NULL|       false|                  false|              true|           false|        false|     USD|    USA|        314200.0|0.29416896235078055|      acres|\n",
      "|  20744| Fort Washington|   MD| 38.77091|-77.02364|535000.0|        3|       4|    2400.0|SINGLE_FAMILY|  FOR_SALE|        NULL|       false|                  false|              true|           false|        false|     USD|    USA|        382600.0| 0.4660238751147842|      acres|\n",
      "|  20901|   Silver Spring|   MD| 39.02012|-76.99986|535000.0|        4|       4|    2038.0|SINGLE_FAMILY|  FOR_SALE|        NULL|       false|                  false|              true|           false|        false|     USD|    USA|        490867.0|             7226.0|       sqft|\n",
      "|  20782|     Hyattsville|   MD| 38.95921|-76.96537|448000.0|        2|       4|    1400.0|SINGLE_FAMILY|  FOR_SALE|        NULL|       false|                  false|              true|           false|        false|     USD|    USA|        404400.0|             5400.0|       sqft|\n",
      "|  20740|    College Park|   MD| 39.01449|-76.91503|318750.0|        1|       3|    1378.0|SINGLE_FAMILY|  FOR_SALE|        NULL|       false|                  false|              true|           false|        false|     USD|    USA|        359300.0|             5632.0|       sqft|\n",
      "|  20019|      Washington|   DC| 38.87767|-76.92985|435000.0|        3|       3|    1165.0|SINGLE_FAMILY|  FOR_SALE|        NULL|       false|                  false|              true|           false|        false|     USD|    USA|        334070.0|             3107.0|       sqft|\n",
      "|  20744| Fort Washington|   MD| 38.75712| -77.0114|424900.0|        3|       3|    2018.0|SINGLE_FAMILY|  FOR_SALE|        NULL|       false|                  false|              true|           false|        false|     USD|    USA|        397000.0| 0.4132231404958678|      acres|\n",
      "|  20032|      Washington|   DC| 38.83079|-76.99753|249999.0|        2|       2|    1206.0|SINGLE_FAMILY|  FOR_SALE|        NULL|       false|                  false|              true|           false|        false|     USD|    USA|        238210.0|             2750.0|       sqft|\n",
      "|  20735|         Clinton|   MD| 38.74338|  -76.868|449900.0|        3|       3|    3176.0|SINGLE_FAMILY|  FOR_SALE|        NULL|       false|                  false|              true|           false|        false|     USD|    USA|        485100.0|               1.14|      acres|\n",
      "|  20902|   Silver Spring|   MD| 39.04359|-77.05672|399900.0|        1|       2|    1287.0|SINGLE_FAMILY|  FOR_SALE|        NULL|       false|                  false|              true|           false|        false|     USD|    USA|        316567.0|             6374.0|       sqft|\n",
      "|  20772|  Upper Marlboro|   MD| 38.79256| -76.8345|434995.0|        3|       5|    2579.0|SINGLE_FAMILY|  FOR_SALE|        NULL|       false|                  false|              true|           false|        false|     USD|    USA|        355800.0|            10206.0|       sqft|\n",
      "|  20783|     Hyattsville|   MD| 38.99493| -76.9754|499900.0|        3|       4|    1842.0|SINGLE_FAMILY|  FOR_SALE|        NULL|       false|                  false|              true|           false|        false|     USD|    USA|        385700.0|             6761.0|       sqft|\n",
      "|  20747|District Heights|   MD|  38.8425|-76.87528|320000.0|        1|       2|     754.0|SINGLE_FAMILY|  FOR_SALE|        NULL|       false|                  false|              true|           false|        false|     USD|    USA|        218300.0|             7446.0|       sqft|\n",
      "|  20772|  Upper Marlboro|   MD| 38.76108|  -76.779|469000.0|        3|       6|    1918.0|SINGLE_FAMILY|  FOR_SALE|        NULL|       false|                  false|              true|           false|        false|     USD|    USA|        375600.0|0.25415518824609734|      acres|\n",
      "|  20772|  Upper Marlboro|   MD| 38.84365| -76.7658|524900.0|        4|       5|    3064.0|SINGLE_FAMILY|  FOR_SALE|        true|       false|                  false|              true|           false|        false|     USD|    USA|        521800.0| 0.2604224058769513|      acres|\n",
      "|  20743| Capitol Heights|   MD|38.899323|-76.91488|550000.0|        3|       4|    1980.0|SINGLE_FAMILY|  FOR_SALE|        NULL|       false|                  false|              true|           false|        false|     USD|    USA|         65800.0|               0.25|      acres|\n",
      "|  20706|          Lanham|   MD| 38.94997|-76.85179|375000.0|        3|       4|    1300.0|SINGLE_FAMILY|  FOR_SALE|        NULL|       false|                  false|              true|           false|        false|     USD|    USA|        299500.0|             6887.0|       sqft|\n",
      "|  20720|           Bowie|   MD| 38.97682|-76.78419|465000.0|        3|       4|    1138.0|SINGLE_FAMILY|  FOR_SALE|        NULL|       false|                  false|              true|           false|        false|     USD|    USA|            NULL|0.27954545454545454|      acres|\n",
      "+-------+----------------+-----+---------+---------+--------+---------+--------+----------+-------------+----------+------------+------------+-----------------------+------------------+----------------+-------------+--------+-------+----------------+-------------------+-----------+\n",
      "only showing top 20 rows\n",
      "\n"
     ]
    }
   ],
   "source": [
    "df.show()"
   ]
  },
  {
   "cell_type": "code",
   "execution_count": 10,
   "id": "7fa95f79",
   "metadata": {},
   "outputs": [],
   "source": [
    "from pyspark.sql.functions import *\n"
   ]
  },
  {
   "cell_type": "code",
   "execution_count": 11,
   "id": "3a80f114",
   "metadata": {},
   "outputs": [
    {
     "name": "stdout",
     "output_type": "stream",
     "text": [
      "+-------+----+-----+--------+---------+-----+---------+--------+----------+--------+----------+------------+------------+-----------------------+------------------+----------------+-------------+--------+-------+----------------+------------+-----------+\n",
      "|zipcode|city|state|latitude|longitude|price|bathrooms|bedrooms|livingArea|homeType|homeStatus|is_bankOwned|isUnmappable|isPreforeclosureAuction|isNonOwnerOccupied|isPremierBuilder|isZillowOwned|currency|country|taxAssessedvalue|lotAreaValue|lotAreaUnit|\n",
      "+-------+----+-----+--------+---------+-----+---------+--------+----------+--------+----------+------------+------------+-----------------------+------------------+----------------+-------------+--------+-------+----------------+------------+-----------+\n",
      "|      0|   0|    0|       0|        0|    0|        0|       0|         0|       0|         0|         326|           0|                      0|                 0|               0|            0|       0|      0|               6|           3|          3|\n",
      "+-------+----+-----+--------+---------+-----+---------+--------+----------+--------+----------+------------+------------+-----------------------+------------------+----------------+-------------+--------+-------+----------------+------------+-----------+\n",
      "\n"
     ]
    }
   ],
   "source": [
    "missing_values_count = df.select([sum(col(c).isNull().cast('int')).alias(c) for c in df.columns])\n",
    "\n",
    "missing_values_count.show()"
   ]
  },
  {
   "cell_type": "code",
   "execution_count": 13,
   "id": "5cff4b3d",
   "metadata": {},
   "outputs": [],
   "source": [
    "df = df.drop('is_bankOwned')\n"
   ]
  },
  {
   "cell_type": "code",
   "execution_count": 14,
   "id": "83d70e27",
   "metadata": {},
   "outputs": [],
   "source": [
    "df_clean=df.dropna()"
   ]
  },
  {
   "cell_type": "code",
   "execution_count": 15,
   "id": "ba3f2756",
   "metadata": {},
   "outputs": [],
   "source": [
    "df_clean=df_clean.dropDuplicates()"
   ]
  },
  {
   "cell_type": "code",
   "execution_count": 16,
   "id": "b36fe04f",
   "metadata": {},
   "outputs": [
    {
     "name": "stdout",
     "output_type": "stream",
     "text": [
      "+-------+---------------+-----+--------+---------+--------+---------+--------+----------+-------------+----------+------------+-----------------------+------------------+----------------+-------------+--------+-------+----------------+-------------------+-----------+\n",
      "|zipcode|           city|state|latitude|longitude|   price|bathrooms|bedrooms|livingArea|     homeType|homeStatus|isUnmappable|isPreforeclosureAuction|isNonOwnerOccupied|isPremierBuilder|isZillowOwned|currency|country|taxAssessedvalue|       lotAreaValue|lotAreaUnit|\n",
      "+-------+---------------+-----+--------+---------+--------+---------+--------+----------+-------------+----------+------------+-----------------------+------------------+----------------+-------------+--------+-------+----------------+-------------------+-----------+\n",
      "|  20706|         Lanham|   MD|38.97061|-76.83151|435000.0|        2|       4|    2500.0|SINGLE_FAMILY|  FOR_SALE|       false|                  false|              true|           false|        false|     USD|    USA|        332000.0|0.42316345270890726|      acres|\n",
      "|  20783|    Hyattsville|   MD|38.97731|-76.97576|525000.0|        3|       5|    2376.0|SINGLE_FAMILY|  FOR_SALE|       false|                  false|              true|           false|        false|     USD|    USA|        457000.0|             8028.0|       sqft|\n",
      "|  20019|     Washington|   DC| 38.8863|-76.93743|330000.0|        2|       3|    1344.0|SINGLE_FAMILY|  FOR_SALE|       false|                  false|              true|           false|        false|     USD|    USA|        362790.0|             6159.0|       sqft|\n",
      "|  20774| Upper Marlboro|   MD|38.87328|-76.84098|445000.0|        3|       4|    1108.0|SINGLE_FAMILY|  FOR_SALE|       false|                  false|              true|           false|        false|     USD|    USA|        359700.0|             6873.0|       sqft|\n",
      "|  20744|Fort Washington|   MD|38.78637|-76.93359|449900.0|        3|       4|    2250.0|SINGLE_FAMILY|  FOR_SALE|       false|                  false|              true|           false|        false|     USD|    USA|        339100.0|            10842.0|       sqft|\n",
      "|  20019|     Washington|   DC|38.87767|-76.92985|435000.0|        3|       3|    1165.0|SINGLE_FAMILY|  FOR_SALE|       false|                  false|              true|           false|        false|     USD|    USA|        334070.0|             3107.0|       sqft|\n",
      "|  20772| Upper Marlboro|   MD|38.84365| -76.7658|524900.0|        4|       5|    3064.0|SINGLE_FAMILY|  FOR_SALE|       false|                  false|              true|           false|        false|     USD|    USA|        521800.0| 0.2604224058769513|      acres|\n",
      "|  20740|   College Park|   MD|38.99508|-76.90613|465000.0|        2|       4|    1788.0|SINGLE_FAMILY|  FOR_SALE|       false|                  false|              true|           false|        false|     USD|    USA|        348200.0|             6660.0|       sqft|\n",
      "|  20744|Fort Washington|   MD|38.76957|-76.95358|549900.0|        2|       6|    2044.0|SINGLE_FAMILY|  FOR_SALE|       false|                  false|              true|           false|        false|     USD|    USA|        266900.0|            10000.0|       sqft|\n",
      "|  20748|   Temple Hills|   MD|38.79955|-76.91918|475000.0|        3|       6|    2592.0|SINGLE_FAMILY|  FOR_SALE|       false|                  false|              true|           false|        false|     USD|    USA|        307400.0|            10685.0|       sqft|\n",
      "|  20737|      Riverdale|   MD|38.95741|-76.89944|350000.0|        2|       5|    1674.0|SINGLE_FAMILY|  FOR_SALE|       false|                  false|              true|           false|        false|     USD|    USA|        297400.0|             6258.0|       sqft|\n",
      "|  20735|        Clinton|   MD| 38.7534|-76.89939|424900.0|        3|       4|    2297.0|SINGLE_FAMILY|  FOR_SALE|       false|                  false|              true|           false|        false|     USD|    USA|        340400.0| 0.2599173553719008|      acres|\n",
      "|  20785|       Landover|   MD|38.93314|-76.85692|469900.0|        3|       4|    1228.0|SINGLE_FAMILY|  FOR_SALE|       false|                  false|              true|           false|        false|     USD|    USA|        326700.0|0.31235078053259874|      acres|\n",
      "|  20772| Upper Marlboro|   MD|38.77583|-76.78503|440000.0|        3|       4|    2682.0|SINGLE_FAMILY|  FOR_SALE|       false|                  false|              true|           false|        false|     USD|    USA|        375900.0|0.27865013774104685|      acres|\n",
      "|  20743|Capitol Heights|   MD|38.89432|-76.90673|340000.0|        2|       4|    1092.0|SINGLE_FAMILY|  FOR_SALE|       false|                  false|              true|           false|        false|     USD|    USA|        288900.0|             5250.0|       sqft|\n",
      "|  20744|Fort Washington|   MD| 38.7755| -77.0037|430000.0|        3|       4|    1296.0|SINGLE_FAMILY|  FOR_SALE|       false|                  false|              true|           false|        false|     USD|    USA|        343500.0|             8754.0|       sqft|\n",
      "|  20740|   College Park|   MD|39.01933| -76.9166|469000.0|        2|       4|    1232.0|SINGLE_FAMILY|  FOR_SALE|       false|                  false|              true|           false|        false|     USD|    USA|        437200.0|             8776.0|       sqft|\n",
      "|  20774| Upper Marlboro|   MD|38.87381|-76.83876|424900.0|        3|       4|    1968.0|SINGLE_FAMILY|  FOR_SALE|       false|                  false|              true|           false|        false|     USD|    USA|        325900.0| 0.3018135904499541|      acres|\n",
      "|  20011|     Washington|   DC|38.95995|-77.00114|550000.0|        2|       2|    1264.0|SINGLE_FAMILY|  FOR_SALE|       false|                  false|              true|           false|        false|     USD|    USA|        551480.0|             2346.0|       sqft|\n",
      "|  20745|      Oxon Hill|   MD| 38.8122|-76.98052|408000.0|        2|       3|    1135.0|SINGLE_FAMILY|  FOR_SALE|       false|                  false|              true|           false|        false|     USD|    USA|        340200.0|             9508.0|       sqft|\n",
      "+-------+---------------+-----+--------+---------+--------+---------+--------+----------+-------------+----------+------------+-----------------------+------------------+----------------+-------------+--------+-------+----------------+-------------------+-----------+\n",
      "only showing top 20 rows\n",
      "\n"
     ]
    }
   ],
   "source": [
    "df_clean.show()"
   ]
  },
  {
   "cell_type": "code",
   "execution_count": 17,
   "id": "d66b15cd",
   "metadata": {},
   "outputs": [
    {
     "name": "stdout",
     "output_type": "stream",
     "text": [
      "(335, 21)\n"
     ]
    }
   ],
   "source": [
    "print((df_clean.count(), len(df_clean.columns)))"
   ]
  },
  {
   "cell_type": "code",
   "execution_count": 18,
   "id": "6837e1c6",
   "metadata": {},
   "outputs": [
    {
     "data": {
      "text/plain": [
       "[Row(quantiles=[379000.0, 435000.0, 475000.0])]"
      ]
     },
     "execution_count": 18,
     "metadata": {},
     "output_type": "execute_result"
    }
   ],
   "source": [
    "df_clean.select(\n",
    "    percentile_approx(\"price\", [0.25, 0.5, 0.75], 1000000).alias(\"quantiles\")).collect()"
   ]
  },
  {
   "cell_type": "code",
   "execution_count": 19,
   "id": "80e8d0b1",
   "metadata": {},
   "outputs": [
    {
     "name": "stdout",
     "output_type": "stream",
     "text": [
      "5.5 1.5\n"
     ]
    }
   ],
   "source": [
    "q1_beds = df_clean.select(percentile_approx(\"bedrooms\", [0.25], 1000000).alias(\"quantiles\")).collect()[0]['quantiles'][0]\n",
    "q3_beds = df_clean.select(percentile_approx(\"bedrooms\", [0.75], 1000000).alias(\"quantiles\")).collect()[0]['quantiles'][0]\n",
    "iqr_beds = q3_beds - q1_beds\n",
    "\n",
    "#Check the Outlier Beds\n",
    "top_outlier_beds = q3_beds + 1.5 * iqr_beds\n",
    "bottom_outlier_beds= q1_beds - 1.5 * iqr_beds\n",
    "print(top_outlier_beds, bottom_outlier_beds)"
   ]
  },
  {
   "cell_type": "code",
   "execution_count": 20,
   "id": "aac56456",
   "metadata": {},
   "outputs": [
    {
     "name": "stdout",
     "output_type": "stream",
     "text": [
      "4.5 0.5\n"
     ]
    }
   ],
   "source": [
    "q1_baths = df_clean.select(percentile_approx(\"bathrooms\", [0.25], 1000000).alias(\"quantiles\")).collect()[0]['quantiles'][0]\n",
    "q3_baths = df_clean.select(percentile_approx(\"bathrooms\", [0.75], 1000000).alias(\"quantiles\")).collect()[0]['quantiles'][0]\n",
    "iqr_baths = q3_baths - q1_baths\n",
    "\n",
    "#Check the Outlier Baths\n",
    "top_outlier_baths = q3_baths + 1.5 * iqr_baths\n",
    "bottom_outlier_baths = q1_baths - 1.5 * iqr_baths\n",
    "print(top_outlier_baths, bottom_outlier_baths)"
   ]
  },
  {
   "cell_type": "code",
   "execution_count": 21,
   "id": "cb5c4d5f",
   "metadata": {},
   "outputs": [
    {
     "name": "stdout",
     "output_type": "stream",
     "text": [
      "3122.0 34.0\n"
     ]
    }
   ],
   "source": [
    "q1_area = df_clean.select(percentile_approx(\"livingArea\", [0.25], 1000000).alias(\"quantiles\")).collect()[0]['quantiles'][0]\n",
    "q3_area = df_clean.select(percentile_approx(\"livingArea\", [0.75], 1000000).alias(\"quantiles\")).collect()[0]['quantiles'][0]\n",
    "iqr_area = q3_area - q1_area\n",
    "\n",
    "#Check the Outlier Area\n",
    "top_outlier_area = q3_area + 1.5 * iqr_area\n",
    "bottom_outlier_area = q1_area - 1.5 * iqr_area\n",
    "print(top_outlier_area, bottom_outlier_area)"
   ]
  },
  {
   "cell_type": "code",
   "execution_count": 22,
   "id": "9db67887",
   "metadata": {},
   "outputs": [
    {
     "name": "stdout",
     "output_type": "stream",
     "text": [
      "619000.0 235000.0\n"
     ]
    }
   ],
   "source": [
    "q1_price = df_clean.select(percentile_approx(\"price\", [0.25], 1000000).alias(\"quantiles\")).collect()[0]['quantiles'][0]\n",
    "q3_price = df_clean.select(percentile_approx(\"price\", [0.75], 1000000).alias(\"quantiles\")).collect()[0]['quantiles'][0]\n",
    "iqr_price = q3_price - q1_price\n",
    "\n",
    "#Check the Outlier Price\n",
    "top_outlier_price = q3_price + 1.5 * iqr_price\n",
    "bottom_outlier_price = q1_price - 1.5 * iqr_price\n",
    "print(top_outlier_price, bottom_outlier_price)"
   ]
  },
  {
   "cell_type": "code",
   "execution_count": 23,
   "id": "7d202432",
   "metadata": {},
   "outputs": [],
   "source": [
    "df_clean = df_clean.filter(df_clean['bedrooms']<=top_outlier_beds)\n",
    "df_clean = df_clean.filter(df_clean['bathrooms']<=top_outlier_baths)\n",
    "df_clean = df_clean.filter(df_clean['livingArea']<=top_outlier_area)\n",
    "df_clean = df_clean.filter(df_clean['price']<=top_outlier_price)"
   ]
  },
  {
   "cell_type": "code",
   "execution_count": 27,
   "id": "26873084",
   "metadata": {},
   "outputs": [],
   "source": [
    "from pyspark.sql.functions import col\n",
    "\n",
    "df_clean = df_clean.withColumn(\"zipcode\", col(\"zipcode\").cast(\"string\"))\n"
   ]
  },
  {
   "cell_type": "code",
   "execution_count": 28,
   "id": "f13b6024",
   "metadata": {},
   "outputs": [
    {
     "name": "stdout",
     "output_type": "stream",
     "text": [
      "+-------+---------------+-----+--------+---------+--------+---------+--------+----------+-------------+----------+------------+-----------------------+------------------+----------------+-------------+--------+-------+----------------+-------------------+-----------+\n",
      "|zipcode|           city|state|latitude|longitude|   price|bathrooms|bedrooms|livingArea|     homeType|homeStatus|isUnmappable|isPreforeclosureAuction|isNonOwnerOccupied|isPremierBuilder|isZillowOwned|currency|country|taxAssessedvalue|       lotAreaValue|lotAreaUnit|\n",
      "+-------+---------------+-----+--------+---------+--------+---------+--------+----------+-------------+----------+------------+-----------------------+------------------+----------------+-------------+--------+-------+----------------+-------------------+-----------+\n",
      "|  20706|         Lanham|   MD|38.97061|-76.83151|435000.0|        2|       4|    2500.0|SINGLE_FAMILY|  FOR_SALE|       false|                  false|              true|           false|        false|     USD|    USA|        332000.0|0.42316345270890726|      acres|\n",
      "|  20783|    Hyattsville|   MD|38.97731|-76.97576|525000.0|        3|       5|    2376.0|SINGLE_FAMILY|  FOR_SALE|       false|                  false|              true|           false|        false|     USD|    USA|        457000.0|             8028.0|       sqft|\n",
      "|  20019|     Washington|   DC| 38.8863|-76.93743|330000.0|        2|       3|    1344.0|SINGLE_FAMILY|  FOR_SALE|       false|                  false|              true|           false|        false|     USD|    USA|        362790.0|             6159.0|       sqft|\n",
      "|  20774| Upper Marlboro|   MD|38.87328|-76.84098|445000.0|        3|       4|    1108.0|SINGLE_FAMILY|  FOR_SALE|       false|                  false|              true|           false|        false|     USD|    USA|        359700.0|             6873.0|       sqft|\n",
      "|  20744|Fort Washington|   MD|38.78637|-76.93359|449900.0|        3|       4|    2250.0|SINGLE_FAMILY|  FOR_SALE|       false|                  false|              true|           false|        false|     USD|    USA|        339100.0|            10842.0|       sqft|\n",
      "|  20019|     Washington|   DC|38.87767|-76.92985|435000.0|        3|       3|    1165.0|SINGLE_FAMILY|  FOR_SALE|       false|                  false|              true|           false|        false|     USD|    USA|        334070.0|             3107.0|       sqft|\n",
      "|  20772| Upper Marlboro|   MD|38.84365| -76.7658|524900.0|        4|       5|    3064.0|SINGLE_FAMILY|  FOR_SALE|       false|                  false|              true|           false|        false|     USD|    USA|        521800.0| 0.2604224058769513|      acres|\n",
      "|  20740|   College Park|   MD|38.99508|-76.90613|465000.0|        2|       4|    1788.0|SINGLE_FAMILY|  FOR_SALE|       false|                  false|              true|           false|        false|     USD|    USA|        348200.0|             6660.0|       sqft|\n",
      "|  20737|      Riverdale|   MD|38.95741|-76.89944|350000.0|        2|       5|    1674.0|SINGLE_FAMILY|  FOR_SALE|       false|                  false|              true|           false|        false|     USD|    USA|        297400.0|             6258.0|       sqft|\n",
      "|  20735|        Clinton|   MD| 38.7534|-76.89939|424900.0|        3|       4|    2297.0|SINGLE_FAMILY|  FOR_SALE|       false|                  false|              true|           false|        false|     USD|    USA|        340400.0| 0.2599173553719008|      acres|\n",
      "|  20785|       Landover|   MD|38.93314|-76.85692|469900.0|        3|       4|    1228.0|SINGLE_FAMILY|  FOR_SALE|       false|                  false|              true|           false|        false|     USD|    USA|        326700.0|0.31235078053259874|      acres|\n",
      "|  20772| Upper Marlboro|   MD|38.77583|-76.78503|440000.0|        3|       4|    2682.0|SINGLE_FAMILY|  FOR_SALE|       false|                  false|              true|           false|        false|     USD|    USA|        375900.0|0.27865013774104685|      acres|\n",
      "|  20743|Capitol Heights|   MD|38.89432|-76.90673|340000.0|        2|       4|    1092.0|SINGLE_FAMILY|  FOR_SALE|       false|                  false|              true|           false|        false|     USD|    USA|        288900.0|             5250.0|       sqft|\n",
      "|  20744|Fort Washington|   MD| 38.7755| -77.0037|430000.0|        3|       4|    1296.0|SINGLE_FAMILY|  FOR_SALE|       false|                  false|              true|           false|        false|     USD|    USA|        343500.0|             8754.0|       sqft|\n",
      "|  20740|   College Park|   MD|39.01933| -76.9166|469000.0|        2|       4|    1232.0|SINGLE_FAMILY|  FOR_SALE|       false|                  false|              true|           false|        false|     USD|    USA|        437200.0|             8776.0|       sqft|\n",
      "|  20774| Upper Marlboro|   MD|38.87381|-76.83876|424900.0|        3|       4|    1968.0|SINGLE_FAMILY|  FOR_SALE|       false|                  false|              true|           false|        false|     USD|    USA|        325900.0| 0.3018135904499541|      acres|\n",
      "|  20011|     Washington|   DC|38.95995|-77.00114|550000.0|        2|       2|    1264.0|SINGLE_FAMILY|  FOR_SALE|       false|                  false|              true|           false|        false|     USD|    USA|        551480.0|             2346.0|       sqft|\n",
      "|  20745|      Oxon Hill|   MD| 38.8122|-76.98052|408000.0|        2|       3|    1135.0|SINGLE_FAMILY|  FOR_SALE|       false|                  false|              true|           false|        false|     USD|    USA|        340200.0|             9508.0|       sqft|\n",
      "|  20902|  Silver Spring|   MD|39.02786| -77.0452|549900.0|        1|       3|    1305.0|SINGLE_FAMILY|  FOR_SALE|       false|                  false|              true|           false|        false|     USD|    USA|        399333.0|             7036.0|       sqft|\n",
      "|  20901|  Silver Spring|   MD|39.02928|-77.02413|537000.0|        2|       3|    1615.0|SINGLE_FAMILY|  FOR_SALE|       false|                  false|              true|           false|        false|     USD|    USA|        389533.0|             6018.0|       sqft|\n",
      "+-------+---------------+-----+--------+---------+--------+---------+--------+----------+-------------+----------+------------+-----------------------+------------------+----------------+-------------+--------+-------+----------------+-------------------+-----------+\n",
      "only showing top 20 rows\n",
      "\n"
     ]
    }
   ],
   "source": [
    "df_clean.show()"
   ]
  },
  {
   "cell_type": "code",
   "execution_count": 29,
   "id": "33e48bfd",
   "metadata": {},
   "outputs": [
    {
     "name": "stdout",
     "output_type": "stream",
     "text": [
      "root\n",
      " |-- zipcode: string (nullable = true)\n",
      " |-- city: string (nullable = true)\n",
      " |-- state: string (nullable = true)\n",
      " |-- price: double (nullable = true)\n",
      " |-- bathrooms: integer (nullable = true)\n",
      " |-- bedrooms: integer (nullable = true)\n",
      " |-- livingArea: double (nullable = true)\n",
      " |-- homeType: string (nullable = true)\n",
      " |-- homeStatus: string (nullable = true)\n",
      " |-- country: string (nullable = true)\n",
      " |-- taxAssessedvalue: double (nullable = true)\n",
      " |-- lotAreaValue: double (nullable = true)\n",
      " |-- lotAreaUnit: string (nullable = true)\n",
      "\n"
     ]
    }
   ],
   "source": [
    "df_selected = df_clean.select('zipcode','city','state','price','bathrooms','bedrooms','livingArea','homeType','homeStatus','country','taxAssessedvalue','lotAreaValue','lotAreaUnit')\n",
    "df_selected.printSchema()"
   ]
  },
  {
   "cell_type": "code",
   "execution_count": 30,
   "id": "07039179",
   "metadata": {},
   "outputs": [
    {
     "name": "stdout",
     "output_type": "stream",
     "text": [
      "+-------+---------------+-----+--------+---------+--------+----------+-------------+----------+-------+----------------+-------------------+-----------+------------+---------+----------+-------------+---------------+------------+----------------+\n",
      "|zipcode|           city|state|   price|bathrooms|bedrooms|livingArea|     homeType|homeStatus|country|taxAssessedvalue|       lotAreaValue|lotAreaUnit|zipcodeIndex|cityIndex|stateIndex|hometypeIndex|homestatusIndex|countryIndex|lotareaunitIndex|\n",
      "+-------+---------------+-----+--------+---------+--------+----------+-------------+----------+-------+----------------+-------------------+-----------+------------+---------+----------+-------------+---------------+------------+----------------+\n",
      "|  20706|         Lanham|   MD|435000.0|        2|       4|    2500.0|SINGLE_FAMILY|  FOR_SALE|    USA|        332000.0|0.42316345270890726|      acres|         8.0|     15.0|       1.0|          0.0|            0.0|         0.0|             0.0|\n",
      "|  20783|    Hyattsville|   MD|525000.0|        3|       5|    2376.0|SINGLE_FAMILY|  FOR_SALE|    USA|        457000.0|             8028.0|       sqft|        28.0|     13.0|       1.0|          0.0|            0.0|         0.0|             1.0|\n",
      "|  20019|     Washington|   DC|330000.0|        2|       3|    1344.0|SINGLE_FAMILY|  FOR_SALE|    USA|        362790.0|             6159.0|       sqft|         3.0|     25.0|       0.0|          0.0|            0.0|         0.0|             1.0|\n",
      "|  20774| Upper Marlboro|   MD|445000.0|        3|       4|    1108.0|SINGLE_FAMILY|  FOR_SALE|    USA|        359700.0|             6873.0|       sqft|        25.0|     24.0|       1.0|          0.0|            0.0|         0.0|             1.0|\n",
      "|  20744|Fort Washington|   MD|449900.0|        3|       4|    2250.0|SINGLE_FAMILY|  FOR_SALE|    USA|        339100.0|            10842.0|       sqft|        18.0|     11.0|       1.0|          0.0|            0.0|         0.0|             1.0|\n",
      "|  20019|     Washington|   DC|435000.0|        3|       3|    1165.0|SINGLE_FAMILY|  FOR_SALE|    USA|        334070.0|             3107.0|       sqft|         3.0|     25.0|       0.0|          0.0|            0.0|         0.0|             1.0|\n",
      "|  20772| Upper Marlboro|   MD|524900.0|        4|       5|    3064.0|SINGLE_FAMILY|  FOR_SALE|    USA|        521800.0| 0.2604224058769513|      acres|        24.0|     24.0|       1.0|          0.0|            0.0|         0.0|             0.0|\n",
      "|  20740|   College Park|   MD|465000.0|        2|       4|    1788.0|SINGLE_FAMILY|  FOR_SALE|    USA|        348200.0|             6660.0|       sqft|        16.0|      8.0|       1.0|          0.0|            0.0|         0.0|             1.0|\n",
      "|  20737|      Riverdale|   MD|350000.0|        2|       5|    1674.0|SINGLE_FAMILY|  FOR_SALE|    USA|        297400.0|             6258.0|       sqft|        15.0|     18.0|       1.0|          0.0|            0.0|         0.0|             1.0|\n",
      "|  20735|        Clinton|   MD|424900.0|        3|       4|    2297.0|SINGLE_FAMILY|  FOR_SALE|    USA|        340400.0| 0.2599173553719008|      acres|        14.0|      7.0|       1.0|          0.0|            0.0|         0.0|             0.0|\n",
      "|  20785|       Landover|   MD|469900.0|        3|       4|    1228.0|SINGLE_FAMILY|  FOR_SALE|    USA|        326700.0|0.31235078053259874|      acres|        30.0|     14.0|       1.0|          0.0|            0.0|         0.0|             0.0|\n",
      "|  20772| Upper Marlboro|   MD|440000.0|        3|       4|    2682.0|SINGLE_FAMILY|  FOR_SALE|    USA|        375900.0|0.27865013774104685|      acres|        24.0|     24.0|       1.0|          0.0|            0.0|         0.0|             0.0|\n",
      "|  20743|Capitol Heights|   MD|340000.0|        2|       4|    1092.0|SINGLE_FAMILY|  FOR_SALE|    USA|        288900.0|             5250.0|       sqft|        17.0|      4.0|       1.0|          0.0|            0.0|         0.0|             1.0|\n",
      "|  20744|Fort Washington|   MD|430000.0|        3|       4|    1296.0|SINGLE_FAMILY|  FOR_SALE|    USA|        343500.0|             8754.0|       sqft|        18.0|     11.0|       1.0|          0.0|            0.0|         0.0|             1.0|\n",
      "|  20740|   College Park|   MD|469000.0|        2|       4|    1232.0|SINGLE_FAMILY|  FOR_SALE|    USA|        437200.0|             8776.0|       sqft|        16.0|      8.0|       1.0|          0.0|            0.0|         0.0|             1.0|\n",
      "|  20774| Upper Marlboro|   MD|424900.0|        3|       4|    1968.0|SINGLE_FAMILY|  FOR_SALE|    USA|        325900.0| 0.3018135904499541|      acres|        25.0|     24.0|       1.0|          0.0|            0.0|         0.0|             0.0|\n",
      "|  20011|     Washington|   DC|550000.0|        2|       2|    1264.0|SINGLE_FAMILY|  FOR_SALE|    USA|        551480.0|             2346.0|       sqft|         0.0|     25.0|       0.0|          0.0|            0.0|         0.0|             1.0|\n",
      "|  20745|      Oxon Hill|   MD|408000.0|        2|       3|    1135.0|SINGLE_FAMILY|  FOR_SALE|    USA|        340200.0|             9508.0|       sqft|        19.0|     17.0|       1.0|          0.0|            0.0|         0.0|             1.0|\n",
      "|  20902|  Silver Spring|   MD|549900.0|        1|       3|    1305.0|SINGLE_FAMILY|  FOR_SALE|    USA|        399333.0|             7036.0|       sqft|        32.0|     19.0|       1.0|          0.0|            0.0|         0.0|             1.0|\n",
      "|  20901|  Silver Spring|   MD|537000.0|        2|       3|    1615.0|SINGLE_FAMILY|  FOR_SALE|    USA|        389533.0|             6018.0|       sqft|        31.0|     19.0|       1.0|          0.0|            0.0|         0.0|             1.0|\n",
      "+-------+---------------+-----+--------+---------+--------+----------+-------------+----------+-------+----------------+-------------------+-----------+------------+---------+----------+-------------+---------------+------------+----------------+\n",
      "only showing top 20 rows\n",
      "\n"
     ]
    }
   ],
   "source": [
    "from pyspark.ml.feature import StringIndexer\n",
    "\n",
    "indexer = StringIndexer(inputCols=[\"zipcode\",\"city\",\"state\",\"homeType\",\"homeStatus\",\"country\",\"lotAreaUnit\"], \n",
    "                        outputCols=[\"zipcodeIndex\",\"cityIndex\", \"stateIndex\", \"hometypeIndex\",\"homestatusIndex\",\"countryIndex\",\"lotareaunitIndex\"], \n",
    "                        stringOrderType=\"alphabetAsc\")\n",
    "indexed = indexer.fit(df_selected).transform(df_selected)\n",
    "indexed.show()"
   ]
  },
  {
   "cell_type": "code",
   "execution_count": 34,
   "id": "f62182b8",
   "metadata": {},
   "outputs": [
    {
     "name": "stdout",
     "output_type": "stream",
     "text": [
      "+-------+---------------+-----+--------+---------+--------+----------+-------------+----------+-------+----------------+-------------------+-----------+------------+---------+----------+-------------+---------------+------------+----------------+---------------+---------------+-------------+-------------------+\n",
      "|zipcode|           city|state|   price|bathrooms|bedrooms|livingArea|     homeType|homeStatus|country|taxAssessedvalue|       lotAreaValue|lotAreaUnit|zipcodeIndex|cityIndex|stateIndex|hometypeIndex|homestatusIndex|countryIndex|lotareaunitIndex|categoryZipcode|   categoryCity|categoryState|categoryLotareaunit|\n",
      "+-------+---------------+-----+--------+---------+--------+----------+-------------+----------+-------+----------------+-------------------+-----------+------------+---------+----------+-------------+---------------+------------+----------------+---------------+---------------+-------------+-------------------+\n",
      "|  20706|         Lanham|   MD|435000.0|        2|       4|    2500.0|SINGLE_FAMILY|  FOR_SALE|    USA|        332000.0|0.42316345270890726|      acres|         8.0|     15.0|       1.0|          0.0|            0.0|         0.0|             0.0| (39,[8],[1.0])|(25,[15],[1.0])|(2,[1],[1.0])|      (1,[0],[1.0])|\n",
      "|  20783|    Hyattsville|   MD|525000.0|        3|       5|    2376.0|SINGLE_FAMILY|  FOR_SALE|    USA|        457000.0|             8028.0|       sqft|        28.0|     13.0|       1.0|          0.0|            0.0|         0.0|             1.0|(39,[28],[1.0])|(25,[13],[1.0])|(2,[1],[1.0])|          (1,[],[])|\n",
      "|  20019|     Washington|   DC|330000.0|        2|       3|    1344.0|SINGLE_FAMILY|  FOR_SALE|    USA|        362790.0|             6159.0|       sqft|         3.0|     25.0|       0.0|          0.0|            0.0|         0.0|             1.0| (39,[3],[1.0])|     (25,[],[])|(2,[0],[1.0])|          (1,[],[])|\n",
      "|  20774| Upper Marlboro|   MD|445000.0|        3|       4|    1108.0|SINGLE_FAMILY|  FOR_SALE|    USA|        359700.0|             6873.0|       sqft|        25.0|     24.0|       1.0|          0.0|            0.0|         0.0|             1.0|(39,[25],[1.0])|(25,[24],[1.0])|(2,[1],[1.0])|          (1,[],[])|\n",
      "|  20744|Fort Washington|   MD|449900.0|        3|       4|    2250.0|SINGLE_FAMILY|  FOR_SALE|    USA|        339100.0|            10842.0|       sqft|        18.0|     11.0|       1.0|          0.0|            0.0|         0.0|             1.0|(39,[18],[1.0])|(25,[11],[1.0])|(2,[1],[1.0])|          (1,[],[])|\n",
      "|  20019|     Washington|   DC|435000.0|        3|       3|    1165.0|SINGLE_FAMILY|  FOR_SALE|    USA|        334070.0|             3107.0|       sqft|         3.0|     25.0|       0.0|          0.0|            0.0|         0.0|             1.0| (39,[3],[1.0])|     (25,[],[])|(2,[0],[1.0])|          (1,[],[])|\n",
      "|  20772| Upper Marlboro|   MD|524900.0|        4|       5|    3064.0|SINGLE_FAMILY|  FOR_SALE|    USA|        521800.0| 0.2604224058769513|      acres|        24.0|     24.0|       1.0|          0.0|            0.0|         0.0|             0.0|(39,[24],[1.0])|(25,[24],[1.0])|(2,[1],[1.0])|      (1,[0],[1.0])|\n",
      "|  20740|   College Park|   MD|465000.0|        2|       4|    1788.0|SINGLE_FAMILY|  FOR_SALE|    USA|        348200.0|             6660.0|       sqft|        16.0|      8.0|       1.0|          0.0|            0.0|         0.0|             1.0|(39,[16],[1.0])| (25,[8],[1.0])|(2,[1],[1.0])|          (1,[],[])|\n",
      "|  20737|      Riverdale|   MD|350000.0|        2|       5|    1674.0|SINGLE_FAMILY|  FOR_SALE|    USA|        297400.0|             6258.0|       sqft|        15.0|     18.0|       1.0|          0.0|            0.0|         0.0|             1.0|(39,[15],[1.0])|(25,[18],[1.0])|(2,[1],[1.0])|          (1,[],[])|\n",
      "|  20735|        Clinton|   MD|424900.0|        3|       4|    2297.0|SINGLE_FAMILY|  FOR_SALE|    USA|        340400.0| 0.2599173553719008|      acres|        14.0|      7.0|       1.0|          0.0|            0.0|         0.0|             0.0|(39,[14],[1.0])| (25,[7],[1.0])|(2,[1],[1.0])|      (1,[0],[1.0])|\n",
      "|  20785|       Landover|   MD|469900.0|        3|       4|    1228.0|SINGLE_FAMILY|  FOR_SALE|    USA|        326700.0|0.31235078053259874|      acres|        30.0|     14.0|       1.0|          0.0|            0.0|         0.0|             0.0|(39,[30],[1.0])|(25,[14],[1.0])|(2,[1],[1.0])|      (1,[0],[1.0])|\n",
      "|  20772| Upper Marlboro|   MD|440000.0|        3|       4|    2682.0|SINGLE_FAMILY|  FOR_SALE|    USA|        375900.0|0.27865013774104685|      acres|        24.0|     24.0|       1.0|          0.0|            0.0|         0.0|             0.0|(39,[24],[1.0])|(25,[24],[1.0])|(2,[1],[1.0])|      (1,[0],[1.0])|\n",
      "|  20743|Capitol Heights|   MD|340000.0|        2|       4|    1092.0|SINGLE_FAMILY|  FOR_SALE|    USA|        288900.0|             5250.0|       sqft|        17.0|      4.0|       1.0|          0.0|            0.0|         0.0|             1.0|(39,[17],[1.0])| (25,[4],[1.0])|(2,[1],[1.0])|          (1,[],[])|\n",
      "|  20744|Fort Washington|   MD|430000.0|        3|       4|    1296.0|SINGLE_FAMILY|  FOR_SALE|    USA|        343500.0|             8754.0|       sqft|        18.0|     11.0|       1.0|          0.0|            0.0|         0.0|             1.0|(39,[18],[1.0])|(25,[11],[1.0])|(2,[1],[1.0])|          (1,[],[])|\n",
      "|  20740|   College Park|   MD|469000.0|        2|       4|    1232.0|SINGLE_FAMILY|  FOR_SALE|    USA|        437200.0|             8776.0|       sqft|        16.0|      8.0|       1.0|          0.0|            0.0|         0.0|             1.0|(39,[16],[1.0])| (25,[8],[1.0])|(2,[1],[1.0])|          (1,[],[])|\n",
      "|  20774| Upper Marlboro|   MD|424900.0|        3|       4|    1968.0|SINGLE_FAMILY|  FOR_SALE|    USA|        325900.0| 0.3018135904499541|      acres|        25.0|     24.0|       1.0|          0.0|            0.0|         0.0|             0.0|(39,[25],[1.0])|(25,[24],[1.0])|(2,[1],[1.0])|      (1,[0],[1.0])|\n",
      "|  20011|     Washington|   DC|550000.0|        2|       2|    1264.0|SINGLE_FAMILY|  FOR_SALE|    USA|        551480.0|             2346.0|       sqft|         0.0|     25.0|       0.0|          0.0|            0.0|         0.0|             1.0| (39,[0],[1.0])|     (25,[],[])|(2,[0],[1.0])|          (1,[],[])|\n",
      "|  20745|      Oxon Hill|   MD|408000.0|        2|       3|    1135.0|SINGLE_FAMILY|  FOR_SALE|    USA|        340200.0|             9508.0|       sqft|        19.0|     17.0|       1.0|          0.0|            0.0|         0.0|             1.0|(39,[19],[1.0])|(25,[17],[1.0])|(2,[1],[1.0])|          (1,[],[])|\n",
      "|  20902|  Silver Spring|   MD|549900.0|        1|       3|    1305.0|SINGLE_FAMILY|  FOR_SALE|    USA|        399333.0|             7036.0|       sqft|        32.0|     19.0|       1.0|          0.0|            0.0|         0.0|             1.0|(39,[32],[1.0])|(25,[19],[1.0])|(2,[1],[1.0])|          (1,[],[])|\n",
      "|  20901|  Silver Spring|   MD|537000.0|        2|       3|    1615.0|SINGLE_FAMILY|  FOR_SALE|    USA|        389533.0|             6018.0|       sqft|        31.0|     19.0|       1.0|          0.0|            0.0|         0.0|             1.0|(39,[31],[1.0])|(25,[19],[1.0])|(2,[1],[1.0])|          (1,[],[])|\n",
      "+-------+---------------+-----+--------+---------+--------+----------+-------------+----------+-------+----------------+-------------------+-----------+------------+---------+----------+-------------+---------------+------------+----------------+---------------+---------------+-------------+-------------------+\n",
      "only showing top 20 rows\n",
      "\n"
     ]
    }
   ],
   "source": [
    "from pyspark.ml.feature import OneHotEncoder\n",
    "\n",
    "encoder = OneHotEncoder(inputCols=[\"zipcodeIndex\",\"cityIndex\", \"stateIndex\",\"lotareaunitIndex\"],\n",
    "                        outputCols=[\"categoryZipcode\", \"categoryCity\", \"categoryState\",\"categoryLotareaunit\"])\n",
    "model = encoder.fit(indexed)\n",
    "encoded = model.transform(indexed)\n",
    "encoded.show()"
   ]
  },
  {
   "cell_type": "code",
   "execution_count": 35,
   "id": "0226b972",
   "metadata": {},
   "outputs": [
    {
     "data": {
      "text/plain": [
       "['zipcode',\n",
       " 'city',\n",
       " 'state',\n",
       " 'price',\n",
       " 'bathrooms',\n",
       " 'bedrooms',\n",
       " 'livingArea',\n",
       " 'homeType',\n",
       " 'homeStatus',\n",
       " 'country',\n",
       " 'taxAssessedvalue',\n",
       " 'lotAreaValue',\n",
       " 'lotAreaUnit',\n",
       " 'zipcodeIndex',\n",
       " 'cityIndex',\n",
       " 'stateIndex',\n",
       " 'hometypeIndex',\n",
       " 'homestatusIndex',\n",
       " 'countryIndex',\n",
       " 'lotareaunitIndex',\n",
       " 'categoryZipcode',\n",
       " 'categoryCity',\n",
       " 'categoryState',\n",
       " 'categoryLotareaunit']"
      ]
     },
     "execution_count": 35,
     "metadata": {},
     "output_type": "execute_result"
    }
   ],
   "source": [
    "encoded.columns"
   ]
  },
  {
   "cell_type": "code",
   "execution_count": 36,
   "id": "4bf3a27a",
   "metadata": {},
   "outputs": [],
   "source": [
    "from pyspark.ml.feature import VectorAssembler\n",
    "featureassembler=VectorAssembler(inputCols=['bathrooms','bedrooms','livingArea','categoryCity','categoryState','lotAreaValue','categoryLotareaunit','categoryZipcode','taxAssessedvalue'],\n",
    "                                 outputCol=\"Independent Features\")\n",
    "output=featureassembler.transform(encoded)"
   ]
  },
  {
   "cell_type": "code",
   "execution_count": 37,
   "id": "056b74cf",
   "metadata": {},
   "outputs": [
    {
     "name": "stdout",
     "output_type": "stream",
     "text": [
      "+-------+---------------+-----+--------+---------+--------+----------+-------------+----------+-------+----------------+-------------------+-----------+------------+---------+----------+-------------+---------------+------------+----------------+---------------+---------------+-------------+-------------------+--------------------+\n",
      "|zipcode|           city|state|   price|bathrooms|bedrooms|livingArea|     homeType|homeStatus|country|taxAssessedvalue|       lotAreaValue|lotAreaUnit|zipcodeIndex|cityIndex|stateIndex|hometypeIndex|homestatusIndex|countryIndex|lotareaunitIndex|categoryZipcode|   categoryCity|categoryState|categoryLotareaunit|Independent Features|\n",
      "+-------+---------------+-----+--------+---------+--------+----------+-------------+----------+-------+----------------+-------------------+-----------+------------+---------+----------+-------------+---------------+------------+----------------+---------------+---------------+-------------+-------------------+--------------------+\n",
      "|  20706|         Lanham|   MD|435000.0|        2|       4|    2500.0|SINGLE_FAMILY|  FOR_SALE|    USA|        332000.0|0.42316345270890726|      acres|         8.0|     15.0|       1.0|          0.0|            0.0|         0.0|             0.0| (39,[8],[1.0])|(25,[15],[1.0])|(2,[1],[1.0])|      (1,[0],[1.0])|(72,[0,1,2,18,29,...|\n",
      "|  20783|    Hyattsville|   MD|525000.0|        3|       5|    2376.0|SINGLE_FAMILY|  FOR_SALE|    USA|        457000.0|             8028.0|       sqft|        28.0|     13.0|       1.0|          0.0|            0.0|         0.0|             1.0|(39,[28],[1.0])|(25,[13],[1.0])|(2,[1],[1.0])|          (1,[],[])|(72,[0,1,2,16,29,...|\n",
      "|  20019|     Washington|   DC|330000.0|        2|       3|    1344.0|SINGLE_FAMILY|  FOR_SALE|    USA|        362790.0|             6159.0|       sqft|         3.0|     25.0|       0.0|          0.0|            0.0|         0.0|             1.0| (39,[3],[1.0])|     (25,[],[])|(2,[0],[1.0])|          (1,[],[])|(72,[0,1,2,28,30,...|\n",
      "|  20774| Upper Marlboro|   MD|445000.0|        3|       4|    1108.0|SINGLE_FAMILY|  FOR_SALE|    USA|        359700.0|             6873.0|       sqft|        25.0|     24.0|       1.0|          0.0|            0.0|         0.0|             1.0|(39,[25],[1.0])|(25,[24],[1.0])|(2,[1],[1.0])|          (1,[],[])|(72,[0,1,2,27,29,...|\n",
      "|  20744|Fort Washington|   MD|449900.0|        3|       4|    2250.0|SINGLE_FAMILY|  FOR_SALE|    USA|        339100.0|            10842.0|       sqft|        18.0|     11.0|       1.0|          0.0|            0.0|         0.0|             1.0|(39,[18],[1.0])|(25,[11],[1.0])|(2,[1],[1.0])|          (1,[],[])|(72,[0,1,2,14,29,...|\n",
      "|  20019|     Washington|   DC|435000.0|        3|       3|    1165.0|SINGLE_FAMILY|  FOR_SALE|    USA|        334070.0|             3107.0|       sqft|         3.0|     25.0|       0.0|          0.0|            0.0|         0.0|             1.0| (39,[3],[1.0])|     (25,[],[])|(2,[0],[1.0])|          (1,[],[])|(72,[0,1,2,28,30,...|\n",
      "|  20772| Upper Marlboro|   MD|524900.0|        4|       5|    3064.0|SINGLE_FAMILY|  FOR_SALE|    USA|        521800.0| 0.2604224058769513|      acres|        24.0|     24.0|       1.0|          0.0|            0.0|         0.0|             0.0|(39,[24],[1.0])|(25,[24],[1.0])|(2,[1],[1.0])|      (1,[0],[1.0])|(72,[0,1,2,27,29,...|\n",
      "|  20740|   College Park|   MD|465000.0|        2|       4|    1788.0|SINGLE_FAMILY|  FOR_SALE|    USA|        348200.0|             6660.0|       sqft|        16.0|      8.0|       1.0|          0.0|            0.0|         0.0|             1.0|(39,[16],[1.0])| (25,[8],[1.0])|(2,[1],[1.0])|          (1,[],[])|(72,[0,1,2,11,29,...|\n",
      "|  20737|      Riverdale|   MD|350000.0|        2|       5|    1674.0|SINGLE_FAMILY|  FOR_SALE|    USA|        297400.0|             6258.0|       sqft|        15.0|     18.0|       1.0|          0.0|            0.0|         0.0|             1.0|(39,[15],[1.0])|(25,[18],[1.0])|(2,[1],[1.0])|          (1,[],[])|(72,[0,1,2,21,29,...|\n",
      "|  20735|        Clinton|   MD|424900.0|        3|       4|    2297.0|SINGLE_FAMILY|  FOR_SALE|    USA|        340400.0| 0.2599173553719008|      acres|        14.0|      7.0|       1.0|          0.0|            0.0|         0.0|             0.0|(39,[14],[1.0])| (25,[7],[1.0])|(2,[1],[1.0])|      (1,[0],[1.0])|(72,[0,1,2,10,29,...|\n",
      "|  20785|       Landover|   MD|469900.0|        3|       4|    1228.0|SINGLE_FAMILY|  FOR_SALE|    USA|        326700.0|0.31235078053259874|      acres|        30.0|     14.0|       1.0|          0.0|            0.0|         0.0|             0.0|(39,[30],[1.0])|(25,[14],[1.0])|(2,[1],[1.0])|      (1,[0],[1.0])|(72,[0,1,2,17,29,...|\n",
      "|  20772| Upper Marlboro|   MD|440000.0|        3|       4|    2682.0|SINGLE_FAMILY|  FOR_SALE|    USA|        375900.0|0.27865013774104685|      acres|        24.0|     24.0|       1.0|          0.0|            0.0|         0.0|             0.0|(39,[24],[1.0])|(25,[24],[1.0])|(2,[1],[1.0])|      (1,[0],[1.0])|(72,[0,1,2,27,29,...|\n",
      "|  20743|Capitol Heights|   MD|340000.0|        2|       4|    1092.0|SINGLE_FAMILY|  FOR_SALE|    USA|        288900.0|             5250.0|       sqft|        17.0|      4.0|       1.0|          0.0|            0.0|         0.0|             1.0|(39,[17],[1.0])| (25,[4],[1.0])|(2,[1],[1.0])|          (1,[],[])|(72,[0,1,2,7,29,3...|\n",
      "|  20744|Fort Washington|   MD|430000.0|        3|       4|    1296.0|SINGLE_FAMILY|  FOR_SALE|    USA|        343500.0|             8754.0|       sqft|        18.0|     11.0|       1.0|          0.0|            0.0|         0.0|             1.0|(39,[18],[1.0])|(25,[11],[1.0])|(2,[1],[1.0])|          (1,[],[])|(72,[0,1,2,14,29,...|\n",
      "|  20740|   College Park|   MD|469000.0|        2|       4|    1232.0|SINGLE_FAMILY|  FOR_SALE|    USA|        437200.0|             8776.0|       sqft|        16.0|      8.0|       1.0|          0.0|            0.0|         0.0|             1.0|(39,[16],[1.0])| (25,[8],[1.0])|(2,[1],[1.0])|          (1,[],[])|(72,[0,1,2,11,29,...|\n",
      "|  20774| Upper Marlboro|   MD|424900.0|        3|       4|    1968.0|SINGLE_FAMILY|  FOR_SALE|    USA|        325900.0| 0.3018135904499541|      acres|        25.0|     24.0|       1.0|          0.0|            0.0|         0.0|             0.0|(39,[25],[1.0])|(25,[24],[1.0])|(2,[1],[1.0])|      (1,[0],[1.0])|(72,[0,1,2,27,29,...|\n",
      "|  20011|     Washington|   DC|550000.0|        2|       2|    1264.0|SINGLE_FAMILY|  FOR_SALE|    USA|        551480.0|             2346.0|       sqft|         0.0|     25.0|       0.0|          0.0|            0.0|         0.0|             1.0| (39,[0],[1.0])|     (25,[],[])|(2,[0],[1.0])|          (1,[],[])|(72,[0,1,2,28,30,...|\n",
      "|  20745|      Oxon Hill|   MD|408000.0|        2|       3|    1135.0|SINGLE_FAMILY|  FOR_SALE|    USA|        340200.0|             9508.0|       sqft|        19.0|     17.0|       1.0|          0.0|            0.0|         0.0|             1.0|(39,[19],[1.0])|(25,[17],[1.0])|(2,[1],[1.0])|          (1,[],[])|(72,[0,1,2,20,29,...|\n",
      "|  20902|  Silver Spring|   MD|549900.0|        1|       3|    1305.0|SINGLE_FAMILY|  FOR_SALE|    USA|        399333.0|             7036.0|       sqft|        32.0|     19.0|       1.0|          0.0|            0.0|         0.0|             1.0|(39,[32],[1.0])|(25,[19],[1.0])|(2,[1],[1.0])|          (1,[],[])|(72,[0,1,2,22,29,...|\n",
      "|  20901|  Silver Spring|   MD|537000.0|        2|       3|    1615.0|SINGLE_FAMILY|  FOR_SALE|    USA|        389533.0|             6018.0|       sqft|        31.0|     19.0|       1.0|          0.0|            0.0|         0.0|             1.0|(39,[31],[1.0])|(25,[19],[1.0])|(2,[1],[1.0])|          (1,[],[])|(72,[0,1,2,22,29,...|\n",
      "+-------+---------------+-----+--------+---------+--------+----------+-------------+----------+-------+----------------+-------------------+-----------+------------+---------+----------+-------------+---------------+------------+----------------+---------------+---------------+-------------+-------------------+--------------------+\n",
      "only showing top 20 rows\n",
      "\n"
     ]
    }
   ],
   "source": [
    "output.show()"
   ]
  },
  {
   "cell_type": "code",
   "execution_count": 38,
   "id": "777b2cd1",
   "metadata": {},
   "outputs": [],
   "source": [
    "finalized_data=output.select(\"Independent Features\",\"price\")"
   ]
  },
  {
   "cell_type": "code",
   "execution_count": 39,
   "id": "604e7c5f",
   "metadata": {},
   "outputs": [
    {
     "name": "stdout",
     "output_type": "stream",
     "text": [
      "+--------------------+--------+\n",
      "|Independent Features|   price|\n",
      "+--------------------+--------+\n",
      "|(72,[0,1,2,18,29,...|435000.0|\n",
      "|(72,[0,1,2,16,29,...|525000.0|\n",
      "|(72,[0,1,2,28,30,...|330000.0|\n",
      "|(72,[0,1,2,27,29,...|445000.0|\n",
      "|(72,[0,1,2,14,29,...|449900.0|\n",
      "|(72,[0,1,2,28,30,...|435000.0|\n",
      "|(72,[0,1,2,27,29,...|524900.0|\n",
      "|(72,[0,1,2,11,29,...|465000.0|\n",
      "|(72,[0,1,2,21,29,...|350000.0|\n",
      "|(72,[0,1,2,10,29,...|424900.0|\n",
      "|(72,[0,1,2,17,29,...|469900.0|\n",
      "|(72,[0,1,2,27,29,...|440000.0|\n",
      "|(72,[0,1,2,7,29,3...|340000.0|\n",
      "|(72,[0,1,2,14,29,...|430000.0|\n",
      "|(72,[0,1,2,11,29,...|469000.0|\n",
      "|(72,[0,1,2,27,29,...|424900.0|\n",
      "|(72,[0,1,2,28,30,...|550000.0|\n",
      "|(72,[0,1,2,20,29,...|408000.0|\n",
      "|(72,[0,1,2,22,29,...|549900.0|\n",
      "|(72,[0,1,2,22,29,...|537000.0|\n",
      "+--------------------+--------+\n",
      "only showing top 20 rows\n",
      "\n"
     ]
    }
   ],
   "source": [
    "finalized_data.show()"
   ]
  },
  {
   "cell_type": "code",
   "execution_count": 40,
   "id": "29903e34",
   "metadata": {},
   "outputs": [],
   "source": [
    "train_data,test_data=finalized_data.randomSplit([0.8,0.2])"
   ]
  },
  {
   "cell_type": "code",
   "execution_count": 42,
   "id": "14d7f4a9",
   "metadata": {},
   "outputs": [
    {
     "name": "stdout",
     "output_type": "stream",
     "text": [
      "Coefficients: [27846.935827799807,16498.177012309192,34.21708940444712,37690.79508142999,7633.147397303968,9948.40175014528,22180.04125501572,-31233.915301711033,2510.3809429787466,2981.3147253236098,-20612.763208908396,11870.786207749867,-12833.070429122874,65988.39888588719,-12018.45344014719,17217.761069400993,12012.75820763868,-8328.202246312732,-6422.803011708855,-14224.475480061776,-16752.292769112595,-2329.912761011438,49902.9648016209,70003.35241104715,-23063.158873343793,71413.16558050054,-15979.860320566497,-15164.117933676293,15501.789625954703,-23420.897129573692,6.390100510176352,69015.51521936271,91738.97346661457,87116.83609708711,85043.66796831932,7445.54140834223,7453.712215940309,-15974.664980275911,2981.3147253237075,7633.147397304038,-6422.803011708787,9948.401750145606,-14224.475480061266,-1733.210222887669,30040.549536788632,0.0,-20612.763208909637,-2329.912761011598,11870.786207750185,-29471.33045159074,-12018.453440147385,-16752.292769112864,-23063.158873343433,-12833.070429123469,-15979.860320567148,17217.76106940086,-20721.29041886827,-5916.220493478222,4985.584243613837,20146.83134007708,19515.17665691083,-3089.747579134483,-8328.20224631378,35129.92739289415,69550.19790750486,0.0,71413.16558050076,65988.39888588719,70003.35241104751,82375.96640997341,103809.11519226662,0.023880899527407955]\n",
      "Intercept: 208610.74570602743\n"
     ]
    }
   ],
   "source": [
    "from pyspark.ml.regression import LinearRegression\n",
    "\n",
    "regressor=LinearRegression(featuresCol='Independent Features', labelCol='price')\n",
    "regressor=regressor.fit(train_data)\n",
    "print(\"Coefficients: \" + str(regressor.coefficients))\n",
    "print(\"Intercept: \" + str(regressor.intercept))"
   ]
  },
  {
   "cell_type": "code",
   "execution_count": 43,
   "id": "ec304907",
   "metadata": {},
   "outputs": [
    {
     "name": "stdout",
     "output_type": "stream",
     "text": [
      "RMSE: 47547.504975\n",
      "r2: 0.581031\n"
     ]
    }
   ],
   "source": [
    "trainingSummary = regressor.summary\n",
    "print(\"RMSE: %f\" % trainingSummary.rootMeanSquaredError)\n",
    "print(\"r2: %f\" % trainingSummary.r2)"
   ]
  },
  {
   "cell_type": "code",
   "execution_count": 44,
   "id": "394d64db",
   "metadata": {},
   "outputs": [],
   "source": [
    "pred_results=regressor.evaluate(test_data)"
   ]
  },
  {
   "cell_type": "code",
   "execution_count": 45,
   "id": "88a0ac41",
   "metadata": {},
   "outputs": [
    {
     "data": {
      "text/plain": [
       "(39591.03037125528, 50083.31765349226)"
      ]
     },
     "execution_count": 45,
     "metadata": {},
     "output_type": "execute_result"
    }
   ],
   "source": [
    "pred_results.meanAbsoluteError,pred_results.rootMeanSquaredError"
   ]
  },
  {
   "cell_type": "code",
   "execution_count": 46,
   "id": "4c836d5e",
   "metadata": {},
   "outputs": [],
   "source": [
    "from pyspark.ml.regression import RandomForestRegressor\n",
    "\n",
    "rf=RandomForestRegressor(featuresCol='Independent Features', labelCol='price')\n",
    "rf_model=rf.fit(train_data)"
   ]
  },
  {
   "cell_type": "code",
   "execution_count": 47,
   "id": "a5473ef1",
   "metadata": {},
   "outputs": [
    {
     "name": "stdout",
     "output_type": "stream",
     "text": [
      "Root Mean Squared Error (RMSE) on test data = 51744.7\n"
     ]
    }
   ],
   "source": [
    "### Prediction of random forest model\n",
    "from pyspark.ml.evaluation import RegressionEvaluator\n",
    "rf_predictions = rf_model.transform(test_data)\n",
    "rf_evaluator = RegressionEvaluator(labelCol=\"price\", predictionCol=\"prediction\", metricName=\"rmse\")\n",
    "rmse = rf_evaluator.evaluate(rf_predictions)\n",
    "print(\"Root Mean Squared Error (RMSE) on test data = %g\" % rmse)"
   ]
  },
  {
   "cell_type": "code",
   "execution_count": 48,
   "id": "a2a6f852",
   "metadata": {},
   "outputs": [
    {
     "name": "stdout",
     "output_type": "stream",
     "text": [
      "+--------------------+--------+------------------+\n",
      "|Independent Features|   price|        prediction|\n",
      "+--------------------+--------+------------------+\n",
      "|(72,[0,1,2,5,29,3...|305000.0| 429418.0344682814|\n",
      "|(72,[0,1,2,6,29,3...|439000.0|394596.52181506075|\n",
      "|(72,[0,1,2,6,29,3...|515000.0|433724.42153036146|\n",
      "|(72,[0,1,2,6,29,3...|489900.0|455117.91631026036|\n",
      "|(72,[0,1,2,7,29,3...|285000.0| 318738.9903432676|\n",
      "|(72,[0,1,2,7,29,3...|315000.0|319709.40284844354|\n",
      "|(72,[0,1,2,7,29,3...|219900.0| 315623.4820099342|\n",
      "|(72,[0,1,2,7,29,3...|320000.0| 346590.7676069028|\n",
      "|(72,[0,1,2,7,29,3...|340000.0|351540.35519501107|\n",
      "|(72,[0,1,2,7,29,3...|415000.0|378711.15338365996|\n",
      "|(72,[0,1,2,10,29,...|380000.0| 426858.2377631599|\n",
      "|(72,[0,1,2,10,29,...|475000.0|403208.63904443546|\n",
      "|(72,[0,1,2,11,29,...|525000.0| 438658.3893446665|\n",
      "|(72,[0,1,2,11,29,...|465000.0| 449954.9550030699|\n",
      "|(72,[0,1,2,12,29,...|439995.0| 447938.3637999027|\n",
      "|(72,[0,1,2,12,29,...|438800.0|391144.00878334197|\n",
      "|(72,[0,1,2,12,29,...|470000.0|459969.75180834427|\n",
      "|(72,[0,1,2,14,29,...|415000.0|  413139.006154988|\n",
      "|(72,[0,1,2,14,29,...|465000.0| 425137.0811356512|\n",
      "|(72,[0,1,2,14,29,...|539999.0| 478894.4762085122|\n",
      "+--------------------+--------+------------------+\n",
      "only showing top 20 rows\n",
      "\n"
     ]
    }
   ],
   "source": [
    "rf_predictions.show()"
   ]
  },
  {
   "cell_type": "code",
   "execution_count": 49,
   "id": "04f1806c",
   "metadata": {},
   "outputs": [
    {
     "data": {
      "text/plain": [
       "SparseVector(72, {0: 0.1051, 1: 0.0642, 2: 0.1927, 3: 0.0277, 7: 0.032, 8: 0.0002, 10: 0.0019, 13: 0.0091, 14: 0.0032, 16: 0.0063, 17: 0.0017, 18: 0.005, 20: 0.0025, 22: 0.0247, 23: 0.0046, 25: 0.0041, 26: 0.0043, 27: 0.0045, 28: 0.0139, 29: 0.0111, 30: 0.0386, 31: 0.0078, 35: 0.007, 37: 0.0061, 40: 0.0002, 44: 0.0018, 46: 0.0029, 48: 0.0011, 49: 0.036, 50: 0.0016, 51: 0.0007, 53: 0.0, 54: 0.0039, 56: 0.0003, 57: 0.0019, 59: 0.0017, 60: 0.0045, 61: 0.0003, 62: 0.0021, 63: 0.0073, 64: 0.0028, 66: 0.0088, 68: 0.0054, 69: 0.0132, 70: 0.0008, 71: 0.3244})"
      ]
     },
     "execution_count": 49,
     "metadata": {},
     "output_type": "execute_result"
    }
   ],
   "source": [
    "rf_model.featureImportances"
   ]
  },
  {
   "cell_type": "code",
   "execution_count": 50,
   "id": "1e540510",
   "metadata": {},
   "outputs": [
    {
     "data": {
      "text/plain": [
       "[Row(Independent Features=SparseVector(72, {0: 2.0, 1: 4.0, 2: 2500.0, 18: 1.0, 29: 1.0, 30: 0.4232, 31: 1.0, 40: 1.0, 71: 332000.0})),\n",
       " Row(Independent Features=SparseVector(72, {0: 3.0, 1: 5.0, 2: 2376.0, 16: 1.0, 29: 1.0, 30: 8028.0, 60: 1.0, 71: 457000.0}))]"
      ]
     },
     "execution_count": 50,
     "metadata": {},
     "output_type": "execute_result"
    }
   ],
   "source": [
    "finalized_data.select('Independent Features').take(2)"
   ]
  },
  {
   "cell_type": "code",
   "execution_count": 51,
   "id": "cce48b34",
   "metadata": {},
   "outputs": [],
   "source": [
    "from pyspark.ml.regression import GBTRegressor\n",
    "train_data,test_data=finalized_data.randomSplit([0.8,0.2])\n",
    "gbt=GBTRegressor(featuresCol='Independent Features', labelCol='price')\n",
    "gbt_model=gbt.fit(train_data)"
   ]
  },
  {
   "cell_type": "code",
   "execution_count": 52,
   "id": "1d5f7bf9",
   "metadata": {},
   "outputs": [
    {
     "name": "stdout",
     "output_type": "stream",
     "text": [
      "Root Mean Squared Error (RMSE) on test data = 56463.8\n"
     ]
    }
   ],
   "source": [
    "### Prediction of GBT Model\n",
    "gbt_predictions = gbt_model.transform(test_data)\n",
    "gbt_evaluator = RegressionEvaluator(labelCol=\"price\", predictionCol=\"prediction\", metricName=\"rmse\")\n",
    "rmse = gbt_evaluator.evaluate(gbt_predictions)\n",
    "print(\"Root Mean Squared Error (RMSE) on test data = %g\" % rmse)"
   ]
  },
  {
   "cell_type": "code",
   "execution_count": 53,
   "id": "d6b93fc5",
   "metadata": {},
   "outputs": [
    {
     "name": "stdout",
     "output_type": "stream",
     "text": [
      "+--------------------+--------+------------------+\n",
      "|Independent Features|   price|        prediction|\n",
      "+--------------------+--------+------------------+\n",
      "|(72,[0,1,2,5,29,3...|305000.0| 410454.6036436463|\n",
      "|(72,[0,1,2,6,29,3...|499500.0| 461763.1405921831|\n",
      "|(72,[0,1,2,6,29,3...|475000.0|466581.22118833906|\n",
      "|(72,[0,1,2,7,29,3...|310000.0| 349036.5980817347|\n",
      "|(72,[0,1,2,7,29,3...|285000.0|265426.01857766643|\n",
      "|(72,[0,1,2,7,29,3...|349000.0|347226.41822692583|\n",
      "|(72,[0,1,2,7,29,3...|370000.0|258383.87148917865|\n",
      "|(72,[0,1,2,10,29,...|380000.0|463770.45766412996|\n",
      "|(72,[0,1,2,10,29,...|510000.0| 506599.6994629643|\n",
      "|(72,[0,1,2,10,29,...|450000.0|  474874.179380933|\n",
      "|(72,[0,1,2,10,29,...|475000.0|  456652.753188823|\n",
      "|(72,[0,1,2,10,29,...|475000.0|478135.89812836197|\n",
      "|(72,[0,1,2,11,29,...|399900.0| 483410.3200084229|\n",
      "|(72,[0,1,2,12,29,...|389900.0|448008.03500822134|\n",
      "|(72,[0,1,2,12,29,...|379900.0|403388.42347812135|\n",
      "|(72,[0,1,2,14,29,...|415000.0| 350126.2071385327|\n",
      "|(72,[0,1,2,14,29,...|439000.0| 437028.7804592405|\n",
      "|(72,[0,1,2,14,29,...|465000.0| 418330.0982804538|\n",
      "|(72,[0,1,2,14,29,...|399999.0| 477161.0044848933|\n",
      "|(72,[0,1,2,16,29,...|445000.0|450096.42960326205|\n",
      "+--------------------+--------+------------------+\n",
      "only showing top 20 rows\n",
      "\n"
     ]
    }
   ],
   "source": [
    "gbt_predictions.show()"
   ]
  },
  {
   "cell_type": "code",
   "execution_count": 65,
   "id": "9f591a76",
   "metadata": {},
   "outputs": [
    {
     "name": "stdout",
     "output_type": "stream",
     "text": [
      "Best hyperparameters: {Param(parent='GBTRegressor_7d414387fe6b', name='cacheNodeIds', doc='If false, the algorithm will pass trees to executors to match instances with nodes. If true, the algorithm will cache node IDs for each instance. Caching can speed up training of deeper trees. Users can set how often should the cache be checkpointed or disable it by setting checkpointInterval.'): False, Param(parent='GBTRegressor_7d414387fe6b', name='checkpointInterval', doc='set checkpoint interval (>= 1) or disable checkpoint (-1). E.g. 10 means that the cache will get checkpointed every 10 iterations. Note: this setting will be ignored if the checkpoint directory is not set in the SparkContext.'): 10, Param(parent='GBTRegressor_7d414387fe6b', name='featureSubsetStrategy', doc=\"The number of features to consider for splits at each tree node. Supported options: 'auto' (choose automatically for task: If numTrees == 1, set to 'all'. If numTrees > 1 (forest), set to 'sqrt' for classification and to 'onethird' for regression), 'all' (use all features), 'onethird' (use 1/3 of the features), 'sqrt' (use sqrt(number of features)), 'log2' (use log2(number of features)), 'n' (when n is in the range (0, 1.0], use n * number of features. When n is in the range (1, number of features), use n features). default = 'auto'\"): 'all', Param(parent='GBTRegressor_7d414387fe6b', name='featuresCol', doc='features column name.'): 'Independent Features', Param(parent='GBTRegressor_7d414387fe6b', name='impurity', doc='Criterion used for information gain calculation (case-insensitive). Supported options: variance'): 'variance', Param(parent='GBTRegressor_7d414387fe6b', name='labelCol', doc='label column name.'): 'price', Param(parent='GBTRegressor_7d414387fe6b', name='leafCol', doc='Leaf indices column name. Predicted leaf index of each instance in each tree by preorder.'): '', Param(parent='GBTRegressor_7d414387fe6b', name='lossType', doc='Loss function which GBT tries to minimize (case-insensitive). Supported options: squared, absolute'): 'squared', Param(parent='GBTRegressor_7d414387fe6b', name='maxBins', doc='Max number of bins for discretizing continuous features.  Must be >=2 and >= number of categories for any categorical feature.'): 32, Param(parent='GBTRegressor_7d414387fe6b', name='maxDepth', doc='Maximum depth of the tree. (>= 0) E.g., depth 0 means 1 leaf node; depth 1 means 1 internal node + 2 leaf nodes. Must be in range [0, 30].'): 5, Param(parent='GBTRegressor_7d414387fe6b', name='maxIter', doc='max number of iterations (>= 0).'): 10, Param(parent='GBTRegressor_7d414387fe6b', name='maxMemoryInMB', doc='Maximum memory in MB allocated to histogram aggregation. If too small, then 1 node will be split per iteration, and its aggregates may exceed this size.'): 256, Param(parent='GBTRegressor_7d414387fe6b', name='minInfoGain', doc='Minimum information gain for a split to be considered at a tree node.'): 0.0, Param(parent='GBTRegressor_7d414387fe6b', name='minInstancesPerNode', doc='Minimum number of instances each child must have after split. If a split causes the left or right child to have fewer than minInstancesPerNode, the split will be discarded as invalid. Should be >= 1.'): 1, Param(parent='GBTRegressor_7d414387fe6b', name='minWeightFractionPerNode', doc='Minimum fraction of the weighted sample count that each child must have after split. If a split causes the fraction of the total weight in the left or right child to be less than minWeightFractionPerNode, the split will be discarded as invalid. Should be in interval [0.0, 0.5).'): 0.0, Param(parent='GBTRegressor_7d414387fe6b', name='predictionCol', doc='prediction column name.'): 'prediction', Param(parent='GBTRegressor_7d414387fe6b', name='seed', doc='random seed.'): -4305908330681119992, Param(parent='GBTRegressor_7d414387fe6b', name='stepSize', doc='Step size (a.k.a. learning rate) in interval (0, 1] for shrinking the contribution of each estimator.'): 0.1, Param(parent='GBTRegressor_7d414387fe6b', name='subsamplingRate', doc='Fraction of the training data used for learning each decision tree, in range (0, 1].'): 1.0, Param(parent='GBTRegressor_7d414387fe6b', name='validationTol', doc='Threshold for stopping early when fit with validation is used. If the error rate on the validation input changes by less than the validationTol, then learning will stop early (before `maxIter`). This parameter is ignored when fit without validation is used.'): 0.01}\n",
      "Root Mean Squared Error (RMSE) on test data: 41512.74567185468\n"
     ]
    }
   ],
   "source": [
    "from pyspark.ml.tuning import ParamGridBuilder, CrossValidator\n",
    "from pyspark.ml.evaluation import RegressionEvaluator\n",
    "from pyspark.ml.regression import GBTRegressor\n",
    "\n",
    "# Assuming 'train_data' is your training dataset\n",
    "\n",
    "# Define the GBTRegressor model\n",
    "gbt = GBTRegressor(featuresCol='Independent Features', labelCol='price')\n",
    "\n",
    "# Define the parameter grid\n",
    "param_grid = ParamGridBuilder() \\\n",
    "    .addGrid(gbt.maxDepth, [5, 10, 15]) \\\n",
    "    .addGrid(gbt.maxBins, [32, 64]) \\\n",
    "    .addGrid(gbt.maxIter, [10, 20]) \\\n",
    "    .build()\n",
    "\n",
    "# Define the evaluator\n",
    "evaluator = RegressionEvaluator(labelCol='price', metricName='rmse')\n",
    "\n",
    "# Define the CrossValidator\n",
    "cv = CrossValidator(estimator=gbt, \n",
    "                    estimatorParamMaps=param_grid, \n",
    "                    evaluator=evaluator, \n",
    "                    numFolds=3)  # You can adjust the number of folds\n",
    "\n",
    "# Fit the CrossValidator to the training data\n",
    "cv_model = cv.fit(train_data)\n",
    "\n",
    "# Get the best model from cross-validation\n",
    "best_model = cv_model.bestModel\n",
    "\n",
    "# Evaluate the best model on the test set\n",
    "predictions = best_model.transform(test_data)\n",
    "rmse = evaluator.evaluate(predictions)\n",
    "\n",
    "# Print the best hyperparameters and RMSE\n",
    "print(\"Best hyperparameters:\", best_model.extractParamMap())\n",
    "print(\"Root Mean Squared Error (RMSE) on test data:\", rmse)\n"
   ]
  },
  {
   "cell_type": "code",
   "execution_count": 69,
   "id": "71383542",
   "metadata": {},
   "outputs": [
    {
     "ename": "Py4JJavaError",
     "evalue": "An error occurred while calling o14499.save.\n: java.lang.RuntimeException: java.io.FileNotFoundException: java.io.FileNotFoundException: HADOOP_HOME and hadoop.home.dir are unset. -see https://wiki.apache.org/hadoop/WindowsProblems\r\n\tat org.apache.hadoop.util.Shell.getWinUtilsPath(Shell.java:735)\r\n\tat org.apache.hadoop.util.Shell.getSetPermissionCommand(Shell.java:270)\r\n\tat org.apache.hadoop.util.Shell.getSetPermissionCommand(Shell.java:286)\r\n\tat org.apache.hadoop.fs.RawLocalFileSystem.setPermission(RawLocalFileSystem.java:978)\r\n\tat org.apache.hadoop.fs.RawLocalFileSystem.mkOneDirWithMode(RawLocalFileSystem.java:660)\r\n\tat org.apache.hadoop.fs.RawLocalFileSystem.mkdirsWithOptionalPermission(RawLocalFileSystem.java:700)\r\n\tat org.apache.hadoop.fs.RawLocalFileSystem.mkdirs(RawLocalFileSystem.java:672)\r\n\tat org.apache.hadoop.fs.RawLocalFileSystem.mkdirsWithOptionalPermission(RawLocalFileSystem.java:699)\r\n\tat org.apache.hadoop.fs.RawLocalFileSystem.mkdirs(RawLocalFileSystem.java:672)\r\n\tat org.apache.hadoop.fs.RawLocalFileSystem.mkdirsWithOptionalPermission(RawLocalFileSystem.java:699)\r\n\tat org.apache.hadoop.fs.RawLocalFileSystem.mkdirs(RawLocalFileSystem.java:672)\r\n\tat org.apache.hadoop.fs.ChecksumFileSystem.mkdirs(ChecksumFileSystem.java:788)\r\n\tat org.apache.hadoop.mapreduce.lib.output.FileOutputCommitter.setupJob(FileOutputCommitter.java:356)\r\n\tat org.apache.hadoop.mapred.FileOutputCommitter.setupJob(FileOutputCommitter.java:131)\r\n\tat org.apache.hadoop.mapred.OutputCommitter.setupJob(OutputCommitter.java:265)\r\n\tat org.apache.spark.internal.io.HadoopMapReduceCommitProtocol.setupJob(HadoopMapReduceCommitProtocol.scala:188)\r\n\tat org.apache.spark.internal.io.SparkHadoopWriter$.write(SparkHadoopWriter.scala:79)\r\n\tat org.apache.spark.rdd.PairRDDFunctions.$anonfun$saveAsHadoopDataset$1(PairRDDFunctions.scala:1091)\r\n\tat scala.runtime.java8.JFunction0$mcV$sp.apply(JFunction0$mcV$sp.java:23)\r\n\tat org.apache.spark.rdd.RDDOperationScope$.withScope(RDDOperationScope.scala:151)\r\n\tat org.apache.spark.rdd.RDDOperationScope$.withScope(RDDOperationScope.scala:112)\r\n\tat org.apache.spark.rdd.RDD.withScope(RDD.scala:407)\r\n\tat org.apache.spark.rdd.PairRDDFunctions.saveAsHadoopDataset(PairRDDFunctions.scala:1089)\r\n\tat org.apache.spark.rdd.PairRDDFunctions.$anonfun$saveAsHadoopFile$4(PairRDDFunctions.scala:1062)\r\n\tat scala.runtime.java8.JFunction0$mcV$sp.apply(JFunction0$mcV$sp.java:23)\r\n\tat org.apache.spark.rdd.RDDOperationScope$.withScope(RDDOperationScope.scala:151)\r\n\tat org.apache.spark.rdd.RDDOperationScope$.withScope(RDDOperationScope.scala:112)\r\n\tat org.apache.spark.rdd.RDD.withScope(RDD.scala:407)\r\n\tat org.apache.spark.rdd.PairRDDFunctions.saveAsHadoopFile(PairRDDFunctions.scala:1027)\r\n\tat org.apache.spark.rdd.PairRDDFunctions.$anonfun$saveAsHadoopFile$3(PairRDDFunctions.scala:1009)\r\n\tat scala.runtime.java8.JFunction0$mcV$sp.apply(JFunction0$mcV$sp.java:23)\r\n\tat org.apache.spark.rdd.RDDOperationScope$.withScope(RDDOperationScope.scala:151)\r\n\tat org.apache.spark.rdd.RDDOperationScope$.withScope(RDDOperationScope.scala:112)\r\n\tat org.apache.spark.rdd.RDD.withScope(RDD.scala:407)\r\n\tat org.apache.spark.rdd.PairRDDFunctions.saveAsHadoopFile(PairRDDFunctions.scala:1008)\r\n\tat org.apache.spark.rdd.PairRDDFunctions.$anonfun$saveAsHadoopFile$2(PairRDDFunctions.scala:965)\r\n\tat scala.runtime.java8.JFunction0$mcV$sp.apply(JFunction0$mcV$sp.java:23)\r\n\tat org.apache.spark.rdd.RDDOperationScope$.withScope(RDDOperationScope.scala:151)\r\n\tat org.apache.spark.rdd.RDDOperationScope$.withScope(RDDOperationScope.scala:112)\r\n\tat org.apache.spark.rdd.RDD.withScope(RDD.scala:407)\r\n\tat org.apache.spark.rdd.PairRDDFunctions.saveAsHadoopFile(PairRDDFunctions.scala:963)\r\n\tat org.apache.spark.rdd.RDD.$anonfun$saveAsTextFile$2(RDD.scala:1620)\r\n\tat scala.runtime.java8.JFunction0$mcV$sp.apply(JFunction0$mcV$sp.java:23)\r\n\tat org.apache.spark.rdd.RDDOperationScope$.withScope(RDDOperationScope.scala:151)\r\n\tat org.apache.spark.rdd.RDDOperationScope$.withScope(RDDOperationScope.scala:112)\r\n\tat org.apache.spark.rdd.RDD.withScope(RDD.scala:407)\r\n\tat org.apache.spark.rdd.RDD.saveAsTextFile(RDD.scala:1620)\r\n\tat org.apache.spark.rdd.RDD.$anonfun$saveAsTextFile$1(RDD.scala:1606)\r\n\tat scala.runtime.java8.JFunction0$mcV$sp.apply(JFunction0$mcV$sp.java:23)\r\n\tat org.apache.spark.rdd.RDDOperationScope$.withScope(RDDOperationScope.scala:151)\r\n\tat org.apache.spark.rdd.RDDOperationScope$.withScope(RDDOperationScope.scala:112)\r\n\tat org.apache.spark.rdd.RDD.withScope(RDD.scala:407)\r\n\tat org.apache.spark.rdd.RDD.saveAsTextFile(RDD.scala:1606)\r\n\tat org.apache.spark.ml.util.DefaultParamsWriter$.saveMetadata(ReadWrite.scala:413)\r\n\tat org.apache.spark.ml.util.DefaultParamsWriter.saveImpl(ReadWrite.scala:384)\r\n\tat org.apache.spark.ml.util.MLWriter.save(ReadWrite.scala:168)\r\n\tat java.base/jdk.internal.reflect.NativeMethodAccessorImpl.invoke0(Native Method)\r\n\tat java.base/jdk.internal.reflect.NativeMethodAccessorImpl.invoke(NativeMethodAccessorImpl.java:75)\r\n\tat java.base/jdk.internal.reflect.DelegatingMethodAccessorImpl.invoke(DelegatingMethodAccessorImpl.java:52)\r\n\tat java.base/java.lang.reflect.Method.invoke(Method.java:578)\r\n\tat py4j.reflection.MethodInvoker.invoke(MethodInvoker.java:244)\r\n\tat py4j.reflection.ReflectionEngine.invoke(ReflectionEngine.java:374)\r\n\tat py4j.Gateway.invoke(Gateway.java:282)\r\n\tat py4j.commands.AbstractCommand.invokeMethod(AbstractCommand.java:132)\r\n\tat py4j.commands.CallCommand.execute(CallCommand.java:79)\r\n\tat py4j.ClientServerConnection.waitForCommands(ClientServerConnection.java:182)\r\n\tat py4j.ClientServerConnection.run(ClientServerConnection.java:106)\r\n\tat java.base/java.lang.Thread.run(Thread.java:1623)\r\nCaused by: java.io.FileNotFoundException: java.io.FileNotFoundException: HADOOP_HOME and hadoop.home.dir are unset. -see https://wiki.apache.org/hadoop/WindowsProblems\r\n\tat org.apache.hadoop.util.Shell.fileNotFoundException(Shell.java:547)\r\n\tat org.apache.hadoop.util.Shell.getHadoopHomeDir(Shell.java:568)\r\n\tat org.apache.hadoop.util.Shell.getQualifiedBin(Shell.java:591)\r\n\tat org.apache.hadoop.util.Shell.<clinit>(Shell.java:688)\r\n\tat org.apache.hadoop.util.StringUtils.<clinit>(StringUtils.java:79)\r\n\tat org.apache.hadoop.conf.Configuration.getTimeDurationHelper(Configuration.java:1907)\r\n\tat org.apache.hadoop.conf.Configuration.getTimeDuration(Configuration.java:1867)\r\n\tat org.apache.hadoop.conf.Configuration.getTimeDuration(Configuration.java:1840)\r\n\tat org.apache.hadoop.util.ShutdownHookManager.getShutdownTimeout(ShutdownHookManager.java:183)\r\n\tat org.apache.hadoop.util.ShutdownHookManager$HookEntry.<init>(ShutdownHookManager.java:207)\r\n\tat org.apache.hadoop.util.ShutdownHookManager.addShutdownHook(ShutdownHookManager.java:304)\r\n\tat org.apache.spark.util.SparkShutdownHookManager.install(ShutdownHookManager.scala:181)\r\n\tat org.apache.spark.util.ShutdownHookManager$.shutdownHooks$lzycompute(ShutdownHookManager.scala:50)\r\n\tat org.apache.spark.util.ShutdownHookManager$.shutdownHooks(ShutdownHookManager.scala:48)\r\n\tat org.apache.spark.util.ShutdownHookManager$.addShutdownHook(ShutdownHookManager.scala:153)\r\n\tat org.apache.spark.util.ShutdownHookManager$.<init>(ShutdownHookManager.scala:58)\r\n\tat org.apache.spark.util.ShutdownHookManager$.<clinit>(ShutdownHookManager.scala)\r\n\tat org.apache.spark.util.Utils$.createTempDir(Utils.scala:242)\r\n\tat org.apache.spark.util.SparkFileUtils.createTempDir(SparkFileUtils.scala:103)\r\n\tat org.apache.spark.util.SparkFileUtils.createTempDir$(SparkFileUtils.scala:102)\r\n\tat org.apache.spark.util.Utils$.createTempDir(Utils.scala:94)\r\n\tat org.apache.spark.deploy.SparkSubmit.prepareSubmitEnvironment(SparkSubmit.scala:372)\r\n\tat org.apache.spark.deploy.SparkSubmit.org$apache$spark$deploy$SparkSubmit$$runMain(SparkSubmit.scala:964)\r\n\tat org.apache.spark.deploy.SparkSubmit.doRunMain$1(SparkSubmit.scala:194)\r\n\tat org.apache.spark.deploy.SparkSubmit.submit(SparkSubmit.scala:217)\r\n\tat org.apache.spark.deploy.SparkSubmit.doSubmit(SparkSubmit.scala:91)\r\n\tat org.apache.spark.deploy.SparkSubmit$$anon$2.doSubmit(SparkSubmit.scala:1120)\r\n\tat org.apache.spark.deploy.SparkSubmit$.main(SparkSubmit.scala:1129)\r\n\tat org.apache.spark.deploy.SparkSubmit.main(SparkSubmit.scala)\r\nCaused by: java.io.FileNotFoundException: HADOOP_HOME and hadoop.home.dir are unset.\r\n\tat org.apache.hadoop.util.Shell.checkHadoopHomeInner(Shell.java:467)\r\n\tat org.apache.hadoop.util.Shell.checkHadoopHome(Shell.java:438)\r\n\tat org.apache.hadoop.util.Shell.<clinit>(Shell.java:515)\r\n\t... 25 more\r\n",
     "output_type": "error",
     "traceback": [
      "\u001b[1;31m---------------------------------------------------------------------------\u001b[0m",
      "\u001b[1;31mPy4JJavaError\u001b[0m                             Traceback (most recent call last)",
      "Input \u001b[1;32mIn [69]\u001b[0m, in \u001b[0;36m<cell line: 7>\u001b[1;34m()\u001b[0m\n\u001b[0;32m      4\u001b[0m os\u001b[38;5;241m.\u001b[39menviron[\u001b[38;5;124m'\u001b[39m\u001b[38;5;124mHADOOP_HOME\u001b[39m\u001b[38;5;124m'\u001b[39m] \u001b[38;5;241m=\u001b[39m \u001b[38;5;124m'\u001b[39m\u001b[38;5;124m'\u001b[39m\n\u001b[0;32m      6\u001b[0m \u001b[38;5;66;03m# Now save your model\u001b[39;00m\n\u001b[1;32m----> 7\u001b[0m \u001b[43mgbt_model\u001b[49m\u001b[38;5;241;43m.\u001b[39;49m\u001b[43mwrite\u001b[49m\u001b[43m(\u001b[49m\u001b[43m)\u001b[49m\u001b[38;5;241;43m.\u001b[39;49m\u001b[43moverwrite\u001b[49m\u001b[43m(\u001b[49m\u001b[43m)\u001b[49m\u001b[38;5;241;43m.\u001b[39;49m\u001b[43msave\u001b[49m\u001b[43m(\u001b[49m\u001b[38;5;124;43m\"\u001b[39;49m\u001b[38;5;124;43mC:/Users/ihamz/real-estate-project\u001b[39;49m\u001b[38;5;124;43m\"\u001b[39;49m\u001b[43m)\u001b[49m\n",
      "File \u001b[1;32mC:\\MingW2\\pyth\\lib\\site-packages\\pyspark\\ml\\util.py:213\u001b[0m, in \u001b[0;36mJavaMLWriter.save\u001b[1;34m(self, path)\u001b[0m\n\u001b[0;32m    211\u001b[0m \u001b[38;5;28;01mif\u001b[39;00m \u001b[38;5;129;01mnot\u001b[39;00m \u001b[38;5;28misinstance\u001b[39m(path, \u001b[38;5;28mstr\u001b[39m):\n\u001b[0;32m    212\u001b[0m     \u001b[38;5;28;01mraise\u001b[39;00m \u001b[38;5;167;01mTypeError\u001b[39;00m(\u001b[38;5;124m\"\u001b[39m\u001b[38;5;124mpath should be a string, got type \u001b[39m\u001b[38;5;132;01m%s\u001b[39;00m\u001b[38;5;124m\"\u001b[39m \u001b[38;5;241m%\u001b[39m \u001b[38;5;28mtype\u001b[39m(path))\n\u001b[1;32m--> 213\u001b[0m \u001b[38;5;28;43mself\u001b[39;49m\u001b[38;5;241;43m.\u001b[39;49m\u001b[43m_jwrite\u001b[49m\u001b[38;5;241;43m.\u001b[39;49m\u001b[43msave\u001b[49m\u001b[43m(\u001b[49m\u001b[43mpath\u001b[49m\u001b[43m)\u001b[49m\n",
      "File \u001b[1;32mC:\\MingW2\\pyth\\lib\\site-packages\\py4j\\java_gateway.py:1322\u001b[0m, in \u001b[0;36mJavaMember.__call__\u001b[1;34m(self, *args)\u001b[0m\n\u001b[0;32m   1316\u001b[0m command \u001b[38;5;241m=\u001b[39m proto\u001b[38;5;241m.\u001b[39mCALL_COMMAND_NAME \u001b[38;5;241m+\u001b[39m\\\n\u001b[0;32m   1317\u001b[0m     \u001b[38;5;28mself\u001b[39m\u001b[38;5;241m.\u001b[39mcommand_header \u001b[38;5;241m+\u001b[39m\\\n\u001b[0;32m   1318\u001b[0m     args_command \u001b[38;5;241m+\u001b[39m\\\n\u001b[0;32m   1319\u001b[0m     proto\u001b[38;5;241m.\u001b[39mEND_COMMAND_PART\n\u001b[0;32m   1321\u001b[0m answer \u001b[38;5;241m=\u001b[39m \u001b[38;5;28mself\u001b[39m\u001b[38;5;241m.\u001b[39mgateway_client\u001b[38;5;241m.\u001b[39msend_command(command)\n\u001b[1;32m-> 1322\u001b[0m return_value \u001b[38;5;241m=\u001b[39m \u001b[43mget_return_value\u001b[49m\u001b[43m(\u001b[49m\n\u001b[0;32m   1323\u001b[0m \u001b[43m    \u001b[49m\u001b[43manswer\u001b[49m\u001b[43m,\u001b[49m\u001b[43m \u001b[49m\u001b[38;5;28;43mself\u001b[39;49m\u001b[38;5;241;43m.\u001b[39;49m\u001b[43mgateway_client\u001b[49m\u001b[43m,\u001b[49m\u001b[43m \u001b[49m\u001b[38;5;28;43mself\u001b[39;49m\u001b[38;5;241;43m.\u001b[39;49m\u001b[43mtarget_id\u001b[49m\u001b[43m,\u001b[49m\u001b[43m \u001b[49m\u001b[38;5;28;43mself\u001b[39;49m\u001b[38;5;241;43m.\u001b[39;49m\u001b[43mname\u001b[49m\u001b[43m)\u001b[49m\n\u001b[0;32m   1325\u001b[0m \u001b[38;5;28;01mfor\u001b[39;00m temp_arg \u001b[38;5;129;01min\u001b[39;00m temp_args:\n\u001b[0;32m   1326\u001b[0m     \u001b[38;5;28;01mif\u001b[39;00m \u001b[38;5;28mhasattr\u001b[39m(temp_arg, \u001b[38;5;124m\"\u001b[39m\u001b[38;5;124m_detach\u001b[39m\u001b[38;5;124m\"\u001b[39m):\n",
      "File \u001b[1;32mC:\\MingW2\\pyth\\lib\\site-packages\\pyspark\\errors\\exceptions\\captured.py:179\u001b[0m, in \u001b[0;36mcapture_sql_exception.<locals>.deco\u001b[1;34m(*a, **kw)\u001b[0m\n\u001b[0;32m    177\u001b[0m \u001b[38;5;28;01mdef\u001b[39;00m \u001b[38;5;21mdeco\u001b[39m(\u001b[38;5;241m*\u001b[39ma: Any, \u001b[38;5;241m*\u001b[39m\u001b[38;5;241m*\u001b[39mkw: Any) \u001b[38;5;241m-\u001b[39m\u001b[38;5;241m>\u001b[39m Any:\n\u001b[0;32m    178\u001b[0m     \u001b[38;5;28;01mtry\u001b[39;00m:\n\u001b[1;32m--> 179\u001b[0m         \u001b[38;5;28;01mreturn\u001b[39;00m f(\u001b[38;5;241m*\u001b[39ma, \u001b[38;5;241m*\u001b[39m\u001b[38;5;241m*\u001b[39mkw)\n\u001b[0;32m    180\u001b[0m     \u001b[38;5;28;01mexcept\u001b[39;00m Py4JJavaError \u001b[38;5;28;01mas\u001b[39;00m e:\n\u001b[0;32m    181\u001b[0m         converted \u001b[38;5;241m=\u001b[39m convert_exception(e\u001b[38;5;241m.\u001b[39mjava_exception)\n",
      "File \u001b[1;32mC:\\MingW2\\pyth\\lib\\site-packages\\py4j\\protocol.py:326\u001b[0m, in \u001b[0;36mget_return_value\u001b[1;34m(answer, gateway_client, target_id, name)\u001b[0m\n\u001b[0;32m    324\u001b[0m value \u001b[38;5;241m=\u001b[39m OUTPUT_CONVERTER[\u001b[38;5;28mtype\u001b[39m](answer[\u001b[38;5;241m2\u001b[39m:], gateway_client)\n\u001b[0;32m    325\u001b[0m \u001b[38;5;28;01mif\u001b[39;00m answer[\u001b[38;5;241m1\u001b[39m] \u001b[38;5;241m==\u001b[39m REFERENCE_TYPE:\n\u001b[1;32m--> 326\u001b[0m     \u001b[38;5;28;01mraise\u001b[39;00m Py4JJavaError(\n\u001b[0;32m    327\u001b[0m         \u001b[38;5;124m\"\u001b[39m\u001b[38;5;124mAn error occurred while calling \u001b[39m\u001b[38;5;132;01m{0}\u001b[39;00m\u001b[38;5;132;01m{1}\u001b[39;00m\u001b[38;5;132;01m{2}\u001b[39;00m\u001b[38;5;124m.\u001b[39m\u001b[38;5;130;01m\\n\u001b[39;00m\u001b[38;5;124m\"\u001b[39m\u001b[38;5;241m.\u001b[39m\n\u001b[0;32m    328\u001b[0m         \u001b[38;5;28mformat\u001b[39m(target_id, \u001b[38;5;124m\"\u001b[39m\u001b[38;5;124m.\u001b[39m\u001b[38;5;124m\"\u001b[39m, name), value)\n\u001b[0;32m    329\u001b[0m \u001b[38;5;28;01melse\u001b[39;00m:\n\u001b[0;32m    330\u001b[0m     \u001b[38;5;28;01mraise\u001b[39;00m Py4JError(\n\u001b[0;32m    331\u001b[0m         \u001b[38;5;124m\"\u001b[39m\u001b[38;5;124mAn error occurred while calling \u001b[39m\u001b[38;5;132;01m{0}\u001b[39;00m\u001b[38;5;132;01m{1}\u001b[39;00m\u001b[38;5;132;01m{2}\u001b[39;00m\u001b[38;5;124m. Trace:\u001b[39m\u001b[38;5;130;01m\\n\u001b[39;00m\u001b[38;5;132;01m{3}\u001b[39;00m\u001b[38;5;130;01m\\n\u001b[39;00m\u001b[38;5;124m\"\u001b[39m\u001b[38;5;241m.\u001b[39m\n\u001b[0;32m    332\u001b[0m         \u001b[38;5;28mformat\u001b[39m(target_id, \u001b[38;5;124m\"\u001b[39m\u001b[38;5;124m.\u001b[39m\u001b[38;5;124m\"\u001b[39m, name, value))\n",
      "\u001b[1;31mPy4JJavaError\u001b[0m: An error occurred while calling o14499.save.\n: java.lang.RuntimeException: java.io.FileNotFoundException: java.io.FileNotFoundException: HADOOP_HOME and hadoop.home.dir are unset. -see https://wiki.apache.org/hadoop/WindowsProblems\r\n\tat org.apache.hadoop.util.Shell.getWinUtilsPath(Shell.java:735)\r\n\tat org.apache.hadoop.util.Shell.getSetPermissionCommand(Shell.java:270)\r\n\tat org.apache.hadoop.util.Shell.getSetPermissionCommand(Shell.java:286)\r\n\tat org.apache.hadoop.fs.RawLocalFileSystem.setPermission(RawLocalFileSystem.java:978)\r\n\tat org.apache.hadoop.fs.RawLocalFileSystem.mkOneDirWithMode(RawLocalFileSystem.java:660)\r\n\tat org.apache.hadoop.fs.RawLocalFileSystem.mkdirsWithOptionalPermission(RawLocalFileSystem.java:700)\r\n\tat org.apache.hadoop.fs.RawLocalFileSystem.mkdirs(RawLocalFileSystem.java:672)\r\n\tat org.apache.hadoop.fs.RawLocalFileSystem.mkdirsWithOptionalPermission(RawLocalFileSystem.java:699)\r\n\tat org.apache.hadoop.fs.RawLocalFileSystem.mkdirs(RawLocalFileSystem.java:672)\r\n\tat org.apache.hadoop.fs.RawLocalFileSystem.mkdirsWithOptionalPermission(RawLocalFileSystem.java:699)\r\n\tat org.apache.hadoop.fs.RawLocalFileSystem.mkdirs(RawLocalFileSystem.java:672)\r\n\tat org.apache.hadoop.fs.ChecksumFileSystem.mkdirs(ChecksumFileSystem.java:788)\r\n\tat org.apache.hadoop.mapreduce.lib.output.FileOutputCommitter.setupJob(FileOutputCommitter.java:356)\r\n\tat org.apache.hadoop.mapred.FileOutputCommitter.setupJob(FileOutputCommitter.java:131)\r\n\tat org.apache.hadoop.mapred.OutputCommitter.setupJob(OutputCommitter.java:265)\r\n\tat org.apache.spark.internal.io.HadoopMapReduceCommitProtocol.setupJob(HadoopMapReduceCommitProtocol.scala:188)\r\n\tat org.apache.spark.internal.io.SparkHadoopWriter$.write(SparkHadoopWriter.scala:79)\r\n\tat org.apache.spark.rdd.PairRDDFunctions.$anonfun$saveAsHadoopDataset$1(PairRDDFunctions.scala:1091)\r\n\tat scala.runtime.java8.JFunction0$mcV$sp.apply(JFunction0$mcV$sp.java:23)\r\n\tat org.apache.spark.rdd.RDDOperationScope$.withScope(RDDOperationScope.scala:151)\r\n\tat org.apache.spark.rdd.RDDOperationScope$.withScope(RDDOperationScope.scala:112)\r\n\tat org.apache.spark.rdd.RDD.withScope(RDD.scala:407)\r\n\tat org.apache.spark.rdd.PairRDDFunctions.saveAsHadoopDataset(PairRDDFunctions.scala:1089)\r\n\tat org.apache.spark.rdd.PairRDDFunctions.$anonfun$saveAsHadoopFile$4(PairRDDFunctions.scala:1062)\r\n\tat scala.runtime.java8.JFunction0$mcV$sp.apply(JFunction0$mcV$sp.java:23)\r\n\tat org.apache.spark.rdd.RDDOperationScope$.withScope(RDDOperationScope.scala:151)\r\n\tat org.apache.spark.rdd.RDDOperationScope$.withScope(RDDOperationScope.scala:112)\r\n\tat org.apache.spark.rdd.RDD.withScope(RDD.scala:407)\r\n\tat org.apache.spark.rdd.PairRDDFunctions.saveAsHadoopFile(PairRDDFunctions.scala:1027)\r\n\tat org.apache.spark.rdd.PairRDDFunctions.$anonfun$saveAsHadoopFile$3(PairRDDFunctions.scala:1009)\r\n\tat scala.runtime.java8.JFunction0$mcV$sp.apply(JFunction0$mcV$sp.java:23)\r\n\tat org.apache.spark.rdd.RDDOperationScope$.withScope(RDDOperationScope.scala:151)\r\n\tat org.apache.spark.rdd.RDDOperationScope$.withScope(RDDOperationScope.scala:112)\r\n\tat org.apache.spark.rdd.RDD.withScope(RDD.scala:407)\r\n\tat org.apache.spark.rdd.PairRDDFunctions.saveAsHadoopFile(PairRDDFunctions.scala:1008)\r\n\tat org.apache.spark.rdd.PairRDDFunctions.$anonfun$saveAsHadoopFile$2(PairRDDFunctions.scala:965)\r\n\tat scala.runtime.java8.JFunction0$mcV$sp.apply(JFunction0$mcV$sp.java:23)\r\n\tat org.apache.spark.rdd.RDDOperationScope$.withScope(RDDOperationScope.scala:151)\r\n\tat org.apache.spark.rdd.RDDOperationScope$.withScope(RDDOperationScope.scala:112)\r\n\tat org.apache.spark.rdd.RDD.withScope(RDD.scala:407)\r\n\tat org.apache.spark.rdd.PairRDDFunctions.saveAsHadoopFile(PairRDDFunctions.scala:963)\r\n\tat org.apache.spark.rdd.RDD.$anonfun$saveAsTextFile$2(RDD.scala:1620)\r\n\tat scala.runtime.java8.JFunction0$mcV$sp.apply(JFunction0$mcV$sp.java:23)\r\n\tat org.apache.spark.rdd.RDDOperationScope$.withScope(RDDOperationScope.scala:151)\r\n\tat org.apache.spark.rdd.RDDOperationScope$.withScope(RDDOperationScope.scala:112)\r\n\tat org.apache.spark.rdd.RDD.withScope(RDD.scala:407)\r\n\tat org.apache.spark.rdd.RDD.saveAsTextFile(RDD.scala:1620)\r\n\tat org.apache.spark.rdd.RDD.$anonfun$saveAsTextFile$1(RDD.scala:1606)\r\n\tat scala.runtime.java8.JFunction0$mcV$sp.apply(JFunction0$mcV$sp.java:23)\r\n\tat org.apache.spark.rdd.RDDOperationScope$.withScope(RDDOperationScope.scala:151)\r\n\tat org.apache.spark.rdd.RDDOperationScope$.withScope(RDDOperationScope.scala:112)\r\n\tat org.apache.spark.rdd.RDD.withScope(RDD.scala:407)\r\n\tat org.apache.spark.rdd.RDD.saveAsTextFile(RDD.scala:1606)\r\n\tat org.apache.spark.ml.util.DefaultParamsWriter$.saveMetadata(ReadWrite.scala:413)\r\n\tat org.apache.spark.ml.util.DefaultParamsWriter.saveImpl(ReadWrite.scala:384)\r\n\tat org.apache.spark.ml.util.MLWriter.save(ReadWrite.scala:168)\r\n\tat java.base/jdk.internal.reflect.NativeMethodAccessorImpl.invoke0(Native Method)\r\n\tat java.base/jdk.internal.reflect.NativeMethodAccessorImpl.invoke(NativeMethodAccessorImpl.java:75)\r\n\tat java.base/jdk.internal.reflect.DelegatingMethodAccessorImpl.invoke(DelegatingMethodAccessorImpl.java:52)\r\n\tat java.base/java.lang.reflect.Method.invoke(Method.java:578)\r\n\tat py4j.reflection.MethodInvoker.invoke(MethodInvoker.java:244)\r\n\tat py4j.reflection.ReflectionEngine.invoke(ReflectionEngine.java:374)\r\n\tat py4j.Gateway.invoke(Gateway.java:282)\r\n\tat py4j.commands.AbstractCommand.invokeMethod(AbstractCommand.java:132)\r\n\tat py4j.commands.CallCommand.execute(CallCommand.java:79)\r\n\tat py4j.ClientServerConnection.waitForCommands(ClientServerConnection.java:182)\r\n\tat py4j.ClientServerConnection.run(ClientServerConnection.java:106)\r\n\tat java.base/java.lang.Thread.run(Thread.java:1623)\r\nCaused by: java.io.FileNotFoundException: java.io.FileNotFoundException: HADOOP_HOME and hadoop.home.dir are unset. -see https://wiki.apache.org/hadoop/WindowsProblems\r\n\tat org.apache.hadoop.util.Shell.fileNotFoundException(Shell.java:547)\r\n\tat org.apache.hadoop.util.Shell.getHadoopHomeDir(Shell.java:568)\r\n\tat org.apache.hadoop.util.Shell.getQualifiedBin(Shell.java:591)\r\n\tat org.apache.hadoop.util.Shell.<clinit>(Shell.java:688)\r\n\tat org.apache.hadoop.util.StringUtils.<clinit>(StringUtils.java:79)\r\n\tat org.apache.hadoop.conf.Configuration.getTimeDurationHelper(Configuration.java:1907)\r\n\tat org.apache.hadoop.conf.Configuration.getTimeDuration(Configuration.java:1867)\r\n\tat org.apache.hadoop.conf.Configuration.getTimeDuration(Configuration.java:1840)\r\n\tat org.apache.hadoop.util.ShutdownHookManager.getShutdownTimeout(ShutdownHookManager.java:183)\r\n\tat org.apache.hadoop.util.ShutdownHookManager$HookEntry.<init>(ShutdownHookManager.java:207)\r\n\tat org.apache.hadoop.util.ShutdownHookManager.addShutdownHook(ShutdownHookManager.java:304)\r\n\tat org.apache.spark.util.SparkShutdownHookManager.install(ShutdownHookManager.scala:181)\r\n\tat org.apache.spark.util.ShutdownHookManager$.shutdownHooks$lzycompute(ShutdownHookManager.scala:50)\r\n\tat org.apache.spark.util.ShutdownHookManager$.shutdownHooks(ShutdownHookManager.scala:48)\r\n\tat org.apache.spark.util.ShutdownHookManager$.addShutdownHook(ShutdownHookManager.scala:153)\r\n\tat org.apache.spark.util.ShutdownHookManager$.<init>(ShutdownHookManager.scala:58)\r\n\tat org.apache.spark.util.ShutdownHookManager$.<clinit>(ShutdownHookManager.scala)\r\n\tat org.apache.spark.util.Utils$.createTempDir(Utils.scala:242)\r\n\tat org.apache.spark.util.SparkFileUtils.createTempDir(SparkFileUtils.scala:103)\r\n\tat org.apache.spark.util.SparkFileUtils.createTempDir$(SparkFileUtils.scala:102)\r\n\tat org.apache.spark.util.Utils$.createTempDir(Utils.scala:94)\r\n\tat org.apache.spark.deploy.SparkSubmit.prepareSubmitEnvironment(SparkSubmit.scala:372)\r\n\tat org.apache.spark.deploy.SparkSubmit.org$apache$spark$deploy$SparkSubmit$$runMain(SparkSubmit.scala:964)\r\n\tat org.apache.spark.deploy.SparkSubmit.doRunMain$1(SparkSubmit.scala:194)\r\n\tat org.apache.spark.deploy.SparkSubmit.submit(SparkSubmit.scala:217)\r\n\tat org.apache.spark.deploy.SparkSubmit.doSubmit(SparkSubmit.scala:91)\r\n\tat org.apache.spark.deploy.SparkSubmit$$anon$2.doSubmit(SparkSubmit.scala:1120)\r\n\tat org.apache.spark.deploy.SparkSubmit$.main(SparkSubmit.scala:1129)\r\n\tat org.apache.spark.deploy.SparkSubmit.main(SparkSubmit.scala)\r\nCaused by: java.io.FileNotFoundException: HADOOP_HOME and hadoop.home.dir are unset.\r\n\tat org.apache.hadoop.util.Shell.checkHadoopHomeInner(Shell.java:467)\r\n\tat org.apache.hadoop.util.Shell.checkHadoopHome(Shell.java:438)\r\n\tat org.apache.hadoop.util.Shell.<clinit>(Shell.java:515)\r\n\t... 25 more\r\n"
     ]
    }
   ],
   "source": [
    "import os\n",
    "\n",
    "# Set HADOOP_HOME to avoid FileNotFoundException\n",
    "os.environ['HADOOP_HOME'] = ''\n",
    "\n",
    "# Now save your model\n",
    "gbt_model.write().overwrite().save(\"C:/Users/ihamz/real-estate-project\")\n"
   ]
  },
  {
   "cell_type": "code",
   "execution_count": null,
   "id": "777e556e",
   "metadata": {},
   "outputs": [],
   "source": []
  }
 ],
 "metadata": {
  "kernelspec": {
   "display_name": "Python 3 (ipykernel)",
   "language": "python",
   "name": "python3"
  },
  "language_info": {
   "codemirror_mode": {
    "name": "ipython",
    "version": 3
   },
   "file_extension": ".py",
   "mimetype": "text/x-python",
   "name": "python",
   "nbconvert_exporter": "python",
   "pygments_lexer": "ipython3",
   "version": "3.9.12"
  }
 },
 "nbformat": 4,
 "nbformat_minor": 5
}
